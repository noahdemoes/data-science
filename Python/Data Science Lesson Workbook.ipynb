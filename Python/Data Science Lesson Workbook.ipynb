{
 "cells": [
  {
   "cell_type": "markdown",
   "metadata": {},
   "source": [
    "# Data Science Lesson Example Workbook"
   ]
  },
  {
   "cell_type": "markdown",
   "metadata": {},
   "source": [
    "The intent of this workbook is to introduce python packages and tools that enable the execution of several JQR  items for the Senior Developer Data Science JQR. This workbook will not go into extreme detail about every detail, but will provide a stepping off point for users to learn more about each topic. "
   ]
  },
  {
   "cell_type": "markdown",
   "metadata": {},
   "source": [
    "### Import Required Packages"
   ]
  },
  {
   "cell_type": "code",
   "execution_count": 1,
   "metadata": {},
   "outputs": [],
   "source": [
    "from sklearn.preprocessing import Binarizer\n",
    "import statistics as stats\n",
    "import seaborn as sns\n",
    "import pandas as pd\n",
    "import numpy as np\n",
    "\n",
    "example_array = [1, 2, 3, 3, 4, 9, 5]\n"
   ]
  },
  {
   "cell_type": "markdown",
   "metadata": {},
   "source": [
    "### Import Data"
   ]
  },
  {
   "cell_type": "code",
   "execution_count": 2,
   "metadata": {},
   "outputs": [
    {
     "data": {
      "text/html": [
       "<div>\n",
       "<style scoped>\n",
       "    .dataframe tbody tr th:only-of-type {\n",
       "        vertical-align: middle;\n",
       "    }\n",
       "\n",
       "    .dataframe tbody tr th {\n",
       "        vertical-align: top;\n",
       "    }\n",
       "\n",
       "    .dataframe thead th {\n",
       "        text-align: right;\n",
       "    }\n",
       "</style>\n",
       "<table border=\"1\" class=\"dataframe\">\n",
       "  <thead>\n",
       "    <tr style=\"text-align: right;\">\n",
       "      <th></th>\n",
       "      <th>species</th>\n",
       "      <th>island</th>\n",
       "      <th>bill_length_mm</th>\n",
       "      <th>bill_depth_mm</th>\n",
       "      <th>flipper_length_mm</th>\n",
       "      <th>body_mass_g</th>\n",
       "      <th>sex</th>\n",
       "      <th>year</th>\n",
       "    </tr>\n",
       "  </thead>\n",
       "  <tbody>\n",
       "    <tr>\n",
       "      <th>1</th>\n",
       "      <td>Adelie</td>\n",
       "      <td>Torgersen</td>\n",
       "      <td>39.1</td>\n",
       "      <td>18.7</td>\n",
       "      <td>181.0</td>\n",
       "      <td>3750.0</td>\n",
       "      <td>male</td>\n",
       "      <td>2007</td>\n",
       "    </tr>\n",
       "    <tr>\n",
       "      <th>2</th>\n",
       "      <td>Adelie</td>\n",
       "      <td>Torgersen</td>\n",
       "      <td>39.5</td>\n",
       "      <td>17.4</td>\n",
       "      <td>186.0</td>\n",
       "      <td>3800.0</td>\n",
       "      <td>female</td>\n",
       "      <td>2007</td>\n",
       "    </tr>\n",
       "    <tr>\n",
       "      <th>3</th>\n",
       "      <td>Adelie</td>\n",
       "      <td>Torgersen</td>\n",
       "      <td>40.3</td>\n",
       "      <td>18.0</td>\n",
       "      <td>195.0</td>\n",
       "      <td>3250.0</td>\n",
       "      <td>female</td>\n",
       "      <td>2007</td>\n",
       "    </tr>\n",
       "    <tr>\n",
       "      <th>4</th>\n",
       "      <td>Adelie</td>\n",
       "      <td>Torgersen</td>\n",
       "      <td>NaN</td>\n",
       "      <td>NaN</td>\n",
       "      <td>NaN</td>\n",
       "      <td>NaN</td>\n",
       "      <td>NaN</td>\n",
       "      <td>2007</td>\n",
       "    </tr>\n",
       "    <tr>\n",
       "      <th>5</th>\n",
       "      <td>Adelie</td>\n",
       "      <td>Torgersen</td>\n",
       "      <td>36.7</td>\n",
       "      <td>19.3</td>\n",
       "      <td>193.0</td>\n",
       "      <td>3450.0</td>\n",
       "      <td>female</td>\n",
       "      <td>2007</td>\n",
       "    </tr>\n",
       "  </tbody>\n",
       "</table>\n",
       "</div>"
      ],
      "text/plain": [
       "  species     island  bill_length_mm  bill_depth_mm  flipper_length_mm  \\\n",
       "1  Adelie  Torgersen            39.1           18.7              181.0   \n",
       "2  Adelie  Torgersen            39.5           17.4              186.0   \n",
       "3  Adelie  Torgersen            40.3           18.0              195.0   \n",
       "4  Adelie  Torgersen             NaN            NaN                NaN   \n",
       "5  Adelie  Torgersen            36.7           19.3              193.0   \n",
       "\n",
       "   body_mass_g     sex  year  \n",
       "1       3750.0    male  2007  \n",
       "2       3800.0  female  2007  \n",
       "3       3250.0  female  2007  \n",
       "4          NaN     NaN  2007  \n",
       "5       3450.0  female  2007  "
      ]
     },
     "execution_count": 2,
     "metadata": {},
     "output_type": "execute_result"
    }
   ],
   "source": [
    "penguins = pd.read_csv(\"penguins.csv\", index_col = 0)\n",
    "penguins.head()"
   ]
  },
  {
   "cell_type": "markdown",
   "metadata": {},
   "source": [
    "# 5.2 Data Processing"
   ]
  },
  {
   "cell_type": "markdown",
   "metadata": {},
   "source": [
    "In the above table we see that there are missing values in 4th sample. We must determine what method to use to solve this problem. Do we want to drop that sample? Do we want to inpute values for those entries? Lets first determine how many samples contain missing values and if it will effect the variance in the sample"
   ]
  },
  {
   "cell_type": "code",
   "execution_count": 3,
   "metadata": {},
   "outputs": [
    {
     "name": "stdout",
     "output_type": "stream",
     "text": [
      "The number of rows and columns are (344, 8) respectively.\n"
     ]
    }
   ],
   "source": [
    "print(f'The number of rows and columns are {penguins.shape} respectively.')"
   ]
  },
  {
   "cell_type": "markdown",
   "metadata": {},
   "source": [
    "## 5.2.07 Missing Values"
   ]
  },
  {
   "cell_type": "code",
   "execution_count": 4,
   "metadata": {},
   "outputs": [
    {
     "data": {
      "text/plain": [
       "species               0\n",
       "island                0\n",
       "bill_length_mm        2\n",
       "bill_depth_mm         2\n",
       "flipper_length_mm     2\n",
       "body_mass_g           2\n",
       "sex                  11\n",
       "year                  0\n",
       "dtype: int64"
      ]
     },
     "execution_count": 4,
     "metadata": {},
     "output_type": "execute_result"
    }
   ],
   "source": [
    "penguins.isnull().sum()"
   ]
  },
  {
   "cell_type": "markdown",
   "metadata": {},
   "source": [
    "We have a decision to make. It looks as though there are 2 entires were all the size information is gone. 2 out of the 344 entries is less than 1% of the data so it would be safe to remove these samples. Depending on what we are trying to predict we could either input the sex based on the other information or remove these samples as well."
   ]
  },
  {
   "cell_type": "code",
   "execution_count": 5,
   "metadata": {},
   "outputs": [
    {
     "name": "stdout",
     "output_type": "stream",
     "text": [
      "The new data frame shape is: (333, 8).\n"
     ]
    },
    {
     "data": {
      "text/html": [
       "<div>\n",
       "<style scoped>\n",
       "    .dataframe tbody tr th:only-of-type {\n",
       "        vertical-align: middle;\n",
       "    }\n",
       "\n",
       "    .dataframe tbody tr th {\n",
       "        vertical-align: top;\n",
       "    }\n",
       "\n",
       "    .dataframe thead th {\n",
       "        text-align: right;\n",
       "    }\n",
       "</style>\n",
       "<table border=\"1\" class=\"dataframe\">\n",
       "  <thead>\n",
       "    <tr style=\"text-align: right;\">\n",
       "      <th></th>\n",
       "      <th>species</th>\n",
       "      <th>island</th>\n",
       "      <th>bill_length_mm</th>\n",
       "      <th>bill_depth_mm</th>\n",
       "      <th>flipper_length_mm</th>\n",
       "      <th>body_mass_g</th>\n",
       "      <th>sex</th>\n",
       "      <th>year</th>\n",
       "    </tr>\n",
       "  </thead>\n",
       "  <tbody>\n",
       "    <tr>\n",
       "      <th>0</th>\n",
       "      <td>Adelie</td>\n",
       "      <td>Torgersen</td>\n",
       "      <td>39.1</td>\n",
       "      <td>18.7</td>\n",
       "      <td>181.0</td>\n",
       "      <td>3750.0</td>\n",
       "      <td>male</td>\n",
       "      <td>2007</td>\n",
       "    </tr>\n",
       "    <tr>\n",
       "      <th>1</th>\n",
       "      <td>Adelie</td>\n",
       "      <td>Torgersen</td>\n",
       "      <td>39.5</td>\n",
       "      <td>17.4</td>\n",
       "      <td>186.0</td>\n",
       "      <td>3800.0</td>\n",
       "      <td>female</td>\n",
       "      <td>2007</td>\n",
       "    </tr>\n",
       "    <tr>\n",
       "      <th>2</th>\n",
       "      <td>Adelie</td>\n",
       "      <td>Torgersen</td>\n",
       "      <td>40.3</td>\n",
       "      <td>18.0</td>\n",
       "      <td>195.0</td>\n",
       "      <td>3250.0</td>\n",
       "      <td>female</td>\n",
       "      <td>2007</td>\n",
       "    </tr>\n",
       "    <tr>\n",
       "      <th>3</th>\n",
       "      <td>Adelie</td>\n",
       "      <td>Torgersen</td>\n",
       "      <td>36.7</td>\n",
       "      <td>19.3</td>\n",
       "      <td>193.0</td>\n",
       "      <td>3450.0</td>\n",
       "      <td>female</td>\n",
       "      <td>2007</td>\n",
       "    </tr>\n",
       "    <tr>\n",
       "      <th>4</th>\n",
       "      <td>Adelie</td>\n",
       "      <td>Torgersen</td>\n",
       "      <td>39.3</td>\n",
       "      <td>20.6</td>\n",
       "      <td>190.0</td>\n",
       "      <td>3650.0</td>\n",
       "      <td>male</td>\n",
       "      <td>2007</td>\n",
       "    </tr>\n",
       "  </tbody>\n",
       "</table>\n",
       "</div>"
      ],
      "text/plain": [
       "  species     island  bill_length_mm  bill_depth_mm  flipper_length_mm  \\\n",
       "0  Adelie  Torgersen            39.1           18.7              181.0   \n",
       "1  Adelie  Torgersen            39.5           17.4              186.0   \n",
       "2  Adelie  Torgersen            40.3           18.0              195.0   \n",
       "3  Adelie  Torgersen            36.7           19.3              193.0   \n",
       "4  Adelie  Torgersen            39.3           20.6              190.0   \n",
       "\n",
       "   body_mass_g     sex  year  \n",
       "0       3750.0    male  2007  \n",
       "1       3800.0  female  2007  \n",
       "2       3250.0  female  2007  \n",
       "3       3450.0  female  2007  \n",
       "4       3650.0    male  2007  "
      ]
     },
     "execution_count": 5,
     "metadata": {},
     "output_type": "execute_result"
    }
   ],
   "source": [
    "penguins_notnull = penguins.dropna().reset_index(drop = True)\n",
    "print(f'The new data frame shape is: {penguins_notnull.shape}.')\n",
    "penguins_notnull.head()"
   ]
  },
  {
   "cell_type": "markdown",
   "metadata": {},
   "source": [
    "## 5.2.07 Duplicate values"
   ]
  },
  {
   "cell_type": "code",
   "execution_count": 6,
   "metadata": {},
   "outputs": [
    {
     "name": "stdout",
     "output_type": "stream",
     "text": [
      "The new data frame shape is: (333, 8).\n",
      "There were no duplicate values\n"
     ]
    },
    {
     "data": {
      "text/html": [
       "<div>\n",
       "<style scoped>\n",
       "    .dataframe tbody tr th:only-of-type {\n",
       "        vertical-align: middle;\n",
       "    }\n",
       "\n",
       "    .dataframe tbody tr th {\n",
       "        vertical-align: top;\n",
       "    }\n",
       "\n",
       "    .dataframe thead th {\n",
       "        text-align: right;\n",
       "    }\n",
       "</style>\n",
       "<table border=\"1\" class=\"dataframe\">\n",
       "  <thead>\n",
       "    <tr style=\"text-align: right;\">\n",
       "      <th></th>\n",
       "      <th>species</th>\n",
       "      <th>island</th>\n",
       "      <th>bill_length_mm</th>\n",
       "      <th>bill_depth_mm</th>\n",
       "      <th>flipper_length_mm</th>\n",
       "      <th>body_mass_g</th>\n",
       "      <th>sex</th>\n",
       "      <th>year</th>\n",
       "    </tr>\n",
       "  </thead>\n",
       "  <tbody>\n",
       "    <tr>\n",
       "      <th>0</th>\n",
       "      <td>Adelie</td>\n",
       "      <td>Torgersen</td>\n",
       "      <td>39.1</td>\n",
       "      <td>18.7</td>\n",
       "      <td>181.0</td>\n",
       "      <td>3750.0</td>\n",
       "      <td>male</td>\n",
       "      <td>2007</td>\n",
       "    </tr>\n",
       "    <tr>\n",
       "      <th>1</th>\n",
       "      <td>Adelie</td>\n",
       "      <td>Torgersen</td>\n",
       "      <td>39.5</td>\n",
       "      <td>17.4</td>\n",
       "      <td>186.0</td>\n",
       "      <td>3800.0</td>\n",
       "      <td>female</td>\n",
       "      <td>2007</td>\n",
       "    </tr>\n",
       "    <tr>\n",
       "      <th>2</th>\n",
       "      <td>Adelie</td>\n",
       "      <td>Torgersen</td>\n",
       "      <td>40.3</td>\n",
       "      <td>18.0</td>\n",
       "      <td>195.0</td>\n",
       "      <td>3250.0</td>\n",
       "      <td>female</td>\n",
       "      <td>2007</td>\n",
       "    </tr>\n",
       "    <tr>\n",
       "      <th>3</th>\n",
       "      <td>Adelie</td>\n",
       "      <td>Torgersen</td>\n",
       "      <td>36.7</td>\n",
       "      <td>19.3</td>\n",
       "      <td>193.0</td>\n",
       "      <td>3450.0</td>\n",
       "      <td>female</td>\n",
       "      <td>2007</td>\n",
       "    </tr>\n",
       "    <tr>\n",
       "      <th>4</th>\n",
       "      <td>Adelie</td>\n",
       "      <td>Torgersen</td>\n",
       "      <td>39.3</td>\n",
       "      <td>20.6</td>\n",
       "      <td>190.0</td>\n",
       "      <td>3650.0</td>\n",
       "      <td>male</td>\n",
       "      <td>2007</td>\n",
       "    </tr>\n",
       "  </tbody>\n",
       "</table>\n",
       "</div>"
      ],
      "text/plain": [
       "  species     island  bill_length_mm  bill_depth_mm  flipper_length_mm  \\\n",
       "0  Adelie  Torgersen            39.1           18.7              181.0   \n",
       "1  Adelie  Torgersen            39.5           17.4              186.0   \n",
       "2  Adelie  Torgersen            40.3           18.0              195.0   \n",
       "3  Adelie  Torgersen            36.7           19.3              193.0   \n",
       "4  Adelie  Torgersen            39.3           20.6              190.0   \n",
       "\n",
       "   body_mass_g     sex  year  \n",
       "0       3750.0    male  2007  \n",
       "1       3800.0  female  2007  \n",
       "2       3250.0  female  2007  \n",
       "3       3450.0  female  2007  \n",
       "4       3650.0    male  2007  "
      ]
     },
     "execution_count": 6,
     "metadata": {},
     "output_type": "execute_result"
    }
   ],
   "source": [
    "pen_df = penguins_notnull.drop_duplicates().reset_index(drop = True)\n",
    "print(f'The new data frame shape is: {pen_df.shape}.')\n",
    "print(\"There were no duplicate values\")\n",
    "pen_df.head()"
   ]
  },
  {
   "cell_type": "markdown",
   "metadata": {},
   "source": [
    "## 5.2.07 Inconsistent Values"
   ]
  },
  {
   "cell_type": "markdown",
   "metadata": {},
   "source": [
    "Inconsistent values exist everywhere within real world data, especially data in which a consumer/user inputs the data theirself and does not select an option from a drop down list or prepopulated option. This is something to keep in mind when creating your own data collection methods and techniques. I digress. \n",
    "\n",
    "For example, if a survey asks for your biological sex, one person might put male, another Male, another MALE, and another M. Although these all represent one sex, the naming conventions represent four different ways of writing it. The computer sees these as four distinct sexes. We need to make sure there that these all get categorized as one sex and not four"
   ]
  },
  {
   "cell_type": "code",
   "execution_count": 7,
   "metadata": {},
   "outputs": [],
   "source": [
    "pen_df['species'] = pen_df['species'].str.upper()\n",
    "pen_df['island'] = pen_df['island'].str.upper()\n",
    "pen_df['sex'] = pen_df['sex'].str.upper()\n",
    "pen_df['year'] = pen_df['year'].astype(str)"
   ]
  },
  {
   "cell_type": "markdown",
   "metadata": {},
   "source": [
    "My converting all strings to upper case values you eliminate capitalization inconsistency issues. Spelling can still be an issue. One way to discover this is by, doing a value count over each categorical column"
   ]
  },
  {
   "cell_type": "code",
   "execution_count": 8,
   "metadata": {},
   "outputs": [
    {
     "data": {
      "text/plain": [
       "ADELIE       146\n",
       "GENTOO       119\n",
       "CHINSTRAP     68\n",
       "Name: species, dtype: int64"
      ]
     },
     "execution_count": 8,
     "metadata": {},
     "output_type": "execute_result"
    }
   ],
   "source": [
    "pen_df['species'].value_counts()"
   ]
  },
  {
   "cell_type": "code",
   "execution_count": 9,
   "metadata": {},
   "outputs": [
    {
     "data": {
      "text/plain": [
       "BISCOE       163\n",
       "DREAM        123\n",
       "TORGERSEN     47\n",
       "Name: island, dtype: int64"
      ]
     },
     "execution_count": 9,
     "metadata": {},
     "output_type": "execute_result"
    }
   ],
   "source": [
    "pen_df['island'].value_counts()"
   ]
  },
  {
   "cell_type": "code",
   "execution_count": 10,
   "metadata": {},
   "outputs": [
    {
     "data": {
      "text/plain": [
       "MALE      168\n",
       "FEMALE    165\n",
       "Name: sex, dtype: int64"
      ]
     },
     "execution_count": 10,
     "metadata": {},
     "output_type": "execute_result"
    }
   ],
   "source": [
    "pen_df['sex'].value_counts()"
   ]
  },
  {
   "cell_type": "markdown",
   "metadata": {},
   "source": [
    "## 5.2.07 Outliers "
   ]
  },
  {
   "cell_type": "markdown",
   "metadata": {},
   "source": [
    "Visualization and numerical analysis are two methods to determine outliers. Visualization methods include boxplots and scatter plots. Z-scores in combination witha threshold value can be used to determine numerical outliers."
   ]
  },
  {
   "cell_type": "code",
   "execution_count": 11,
   "metadata": {},
   "outputs": [
    {
     "data": {
      "text/plain": [
       "<seaborn.axisgrid.FacetGrid at 0x11cb5881080>"
      ]
     },
     "execution_count": 11,
     "metadata": {},
     "output_type": "execute_result"
    },
    {
     "data": {
      "image/png": "[encoded data removed]",
      "text/plain": [
       "<Figure size 648x432 with 6 Axes>"
      ]
     },
     "metadata": {
      "needs_background": "light"
     },
     "output_type": "display_data"
    }
   ],
   "source": [
    "g = sns.FacetGrid(pen_df, col = 'species',row ='sex')\n",
    "g.map(sns.scatterplot,'bill_length_mm','flipper_length_mm')"
   ]
  },
  {
   "cell_type": "markdown",
   "metadata": {},
   "source": [
    "The pandas dataframe describe function is a powerful method that provides summary statisitcs for each column. For categorical variables, it will result in a NAN, but for numeric variables it provides mean standard deviation, min, max, and quartile values. "
   ]
  },
  {
   "cell_type": "code",
   "execution_count": 12,
   "metadata": {},
   "outputs": [
    {
     "data": {
      "text/html": [
       "<div>\n",
       "<style scoped>\n",
       "    .dataframe tbody tr th:only-of-type {\n",
       "        vertical-align: middle;\n",
       "    }\n",
       "\n",
       "    .dataframe tbody tr th {\n",
       "        vertical-align: top;\n",
       "    }\n",
       "\n",
       "    .dataframe thead th {\n",
       "        text-align: right;\n",
       "    }\n",
       "</style>\n",
       "<table border=\"1\" class=\"dataframe\">\n",
       "  <thead>\n",
       "    <tr style=\"text-align: right;\">\n",
       "      <th></th>\n",
       "      <th>bill_length_mm</th>\n",
       "      <th>bill_depth_mm</th>\n",
       "      <th>flipper_length_mm</th>\n",
       "      <th>body_mass_g</th>\n",
       "    </tr>\n",
       "  </thead>\n",
       "  <tbody>\n",
       "    <tr>\n",
       "      <th>count</th>\n",
       "      <td>333.000000</td>\n",
       "      <td>333.000000</td>\n",
       "      <td>333.000000</td>\n",
       "      <td>333.000000</td>\n",
       "    </tr>\n",
       "    <tr>\n",
       "      <th>mean</th>\n",
       "      <td>43.992793</td>\n",
       "      <td>17.164865</td>\n",
       "      <td>200.966967</td>\n",
       "      <td>4207.057057</td>\n",
       "    </tr>\n",
       "    <tr>\n",
       "      <th>std</th>\n",
       "      <td>5.468668</td>\n",
       "      <td>1.969235</td>\n",
       "      <td>14.015765</td>\n",
       "      <td>805.215802</td>\n",
       "    </tr>\n",
       "    <tr>\n",
       "      <th>min</th>\n",
       "      <td>32.100000</td>\n",
       "      <td>13.100000</td>\n",
       "      <td>172.000000</td>\n",
       "      <td>2700.000000</td>\n",
       "    </tr>\n",
       "    <tr>\n",
       "      <th>25%</th>\n",
       "      <td>39.500000</td>\n",
       "      <td>15.600000</td>\n",
       "      <td>190.000000</td>\n",
       "      <td>3550.000000</td>\n",
       "    </tr>\n",
       "    <tr>\n",
       "      <th>50%</th>\n",
       "      <td>44.500000</td>\n",
       "      <td>17.300000</td>\n",
       "      <td>197.000000</td>\n",
       "      <td>4050.000000</td>\n",
       "    </tr>\n",
       "    <tr>\n",
       "      <th>75%</th>\n",
       "      <td>48.600000</td>\n",
       "      <td>18.700000</td>\n",
       "      <td>213.000000</td>\n",
       "      <td>4775.000000</td>\n",
       "    </tr>\n",
       "    <tr>\n",
       "      <th>max</th>\n",
       "      <td>59.600000</td>\n",
       "      <td>21.500000</td>\n",
       "      <td>231.000000</td>\n",
       "      <td>6300.000000</td>\n",
       "    </tr>\n",
       "  </tbody>\n",
       "</table>\n",
       "</div>"
      ],
      "text/plain": [
       "       bill_length_mm  bill_depth_mm  flipper_length_mm  body_mass_g\n",
       "count      333.000000     333.000000         333.000000   333.000000\n",
       "mean        43.992793      17.164865         200.966967  4207.057057\n",
       "std          5.468668       1.969235          14.015765   805.215802\n",
       "min         32.100000      13.100000         172.000000  2700.000000\n",
       "25%         39.500000      15.600000         190.000000  3550.000000\n",
       "50%         44.500000      17.300000         197.000000  4050.000000\n",
       "75%         48.600000      18.700000         213.000000  4775.000000\n",
       "max         59.600000      21.500000         231.000000  6300.000000"
      ]
     },
     "execution_count": 12,
     "metadata": {},
     "output_type": "execute_result"
    }
   ],
   "source": [
    "pen_df.describe(include = np.number)"
   ]
  },
  {
   "cell_type": "markdown",
   "metadata": {},
   "source": [
    "Each has to make a decision on what outliers are and whether to keep them or not. I tend to keep as much data as possible the first pass, and remove outliers if the inital model does not work or is not accurate"
   ]
  },
  {
   "cell_type": "markdown",
   "metadata": {},
   "source": [
    "## 5.2.07 Feature enrichment"
   ]
  },
  {
   "cell_type": "markdown",
   "metadata": {},
   "source": [
    "Do we have outside information that we can add to our dataset that would provide more distinguishing information between penguin species? Not right now. However, we do know that living creaters tend to have porportional attributes. Perhaps we can created a scaled attribute or combination of features to represent this fact."
   ]
  },
  {
   "cell_type": "code",
   "execution_count": 13,
   "metadata": {},
   "outputs": [],
   "source": [
    "pen_df[\"bill_length_depth_ratio\"] = pen_df['bill_length_mm'].to_numpy() / pen_df['bill_depth_mm'].to_numpy() "
   ]
  },
  {
   "cell_type": "code",
   "execution_count": 14,
   "metadata": {
    "scrolled": true
   },
   "outputs": [
    {
     "data": {
      "text/html": [
       "<div>\n",
       "<style scoped>\n",
       "    .dataframe tbody tr th:only-of-type {\n",
       "        vertical-align: middle;\n",
       "    }\n",
       "\n",
       "    .dataframe tbody tr th {\n",
       "        vertical-align: top;\n",
       "    }\n",
       "\n",
       "    .dataframe thead th {\n",
       "        text-align: right;\n",
       "    }\n",
       "</style>\n",
       "<table border=\"1\" class=\"dataframe\">\n",
       "  <thead>\n",
       "    <tr style=\"text-align: right;\">\n",
       "      <th></th>\n",
       "      <th>species</th>\n",
       "      <th>island</th>\n",
       "      <th>bill_length_mm</th>\n",
       "      <th>bill_depth_mm</th>\n",
       "      <th>flipper_length_mm</th>\n",
       "      <th>body_mass_g</th>\n",
       "      <th>sex</th>\n",
       "      <th>year</th>\n",
       "      <th>bill_length_depth_ratio</th>\n",
       "    </tr>\n",
       "  </thead>\n",
       "  <tbody>\n",
       "    <tr>\n",
       "      <th>0</th>\n",
       "      <td>ADELIE</td>\n",
       "      <td>TORGERSEN</td>\n",
       "      <td>39.1</td>\n",
       "      <td>18.7</td>\n",
       "      <td>181.0</td>\n",
       "      <td>3750.0</td>\n",
       "      <td>MALE</td>\n",
       "      <td>2007</td>\n",
       "      <td>2.090909</td>\n",
       "    </tr>\n",
       "    <tr>\n",
       "      <th>1</th>\n",
       "      <td>ADELIE</td>\n",
       "      <td>TORGERSEN</td>\n",
       "      <td>39.5</td>\n",
       "      <td>17.4</td>\n",
       "      <td>186.0</td>\n",
       "      <td>3800.0</td>\n",
       "      <td>FEMALE</td>\n",
       "      <td>2007</td>\n",
       "      <td>2.270115</td>\n",
       "    </tr>\n",
       "    <tr>\n",
       "      <th>2</th>\n",
       "      <td>ADELIE</td>\n",
       "      <td>TORGERSEN</td>\n",
       "      <td>40.3</td>\n",
       "      <td>18.0</td>\n",
       "      <td>195.0</td>\n",
       "      <td>3250.0</td>\n",
       "      <td>FEMALE</td>\n",
       "      <td>2007</td>\n",
       "      <td>2.238889</td>\n",
       "    </tr>\n",
       "    <tr>\n",
       "      <th>3</th>\n",
       "      <td>ADELIE</td>\n",
       "      <td>TORGERSEN</td>\n",
       "      <td>36.7</td>\n",
       "      <td>19.3</td>\n",
       "      <td>193.0</td>\n",
       "      <td>3450.0</td>\n",
       "      <td>FEMALE</td>\n",
       "      <td>2007</td>\n",
       "      <td>1.901554</td>\n",
       "    </tr>\n",
       "    <tr>\n",
       "      <th>4</th>\n",
       "      <td>ADELIE</td>\n",
       "      <td>TORGERSEN</td>\n",
       "      <td>39.3</td>\n",
       "      <td>20.6</td>\n",
       "      <td>190.0</td>\n",
       "      <td>3650.0</td>\n",
       "      <td>MALE</td>\n",
       "      <td>2007</td>\n",
       "      <td>1.907767</td>\n",
       "    </tr>\n",
       "  </tbody>\n",
       "</table>\n",
       "</div>"
      ],
      "text/plain": [
       "  species     island  bill_length_mm  bill_depth_mm  flipper_length_mm  \\\n",
       "0  ADELIE  TORGERSEN            39.1           18.7              181.0   \n",
       "1  ADELIE  TORGERSEN            39.5           17.4              186.0   \n",
       "2  ADELIE  TORGERSEN            40.3           18.0              195.0   \n",
       "3  ADELIE  TORGERSEN            36.7           19.3              193.0   \n",
       "4  ADELIE  TORGERSEN            39.3           20.6              190.0   \n",
       "\n",
       "   body_mass_g     sex  year  bill_length_depth_ratio  \n",
       "0       3750.0    MALE  2007                 2.090909  \n",
       "1       3800.0  FEMALE  2007                 2.270115  \n",
       "2       3250.0  FEMALE  2007                 2.238889  \n",
       "3       3450.0  FEMALE  2007                 1.901554  \n",
       "4       3650.0    MALE  2007                 1.907767  "
      ]
     },
     "execution_count": 14,
     "metadata": {},
     "output_type": "execute_result"
    }
   ],
   "source": [
    "pen_df.head()"
   ]
  },
  {
   "cell_type": "markdown",
   "metadata": {},
   "source": [
    "## 5.2.07 Transformation"
   ]
  },
  {
   "cell_type": "markdown",
   "metadata": {},
   "source": [
    "## 5.2.04 Binarization"
   ]
  },
  {
   "cell_type": "markdown",
   "metadata": {},
   "source": [
    "Convert either a categorical variable that has two options (i.e. male/female, heart failure / no heart failure) or based on a cutoff value group a continous variable into two groups (less than threshold (0); greater than threshold (1)). Again, this is so that the computer can understand values."
   ]
  },
  {
   "cell_type": "code",
   "execution_count": 15,
   "metadata": {},
   "outputs": [
    {
     "data": {
      "text/plain": [
       "species                     object\n",
       "island                      object\n",
       "bill_length_mm             float64\n",
       "bill_depth_mm              float64\n",
       "flipper_length_mm          float64\n",
       "body_mass_g                float64\n",
       "sex                         object\n",
       "year                        object\n",
       "bill_length_depth_ratio    float64\n",
       "dtype: object"
      ]
     },
     "execution_count": 15,
     "metadata": {},
     "output_type": "execute_result"
    }
   ],
   "source": [
    "pen_df.dtypes\n"
   ]
  },
  {
   "cell_type": "code",
   "execution_count": 16,
   "metadata": {},
   "outputs": [
    {
     "data": {
      "text/html": [
       "<div>\n",
       "<style scoped>\n",
       "    .dataframe tbody tr th:only-of-type {\n",
       "        vertical-align: middle;\n",
       "    }\n",
       "\n",
       "    .dataframe tbody tr th {\n",
       "        vertical-align: top;\n",
       "    }\n",
       "\n",
       "    .dataframe thead th {\n",
       "        text-align: right;\n",
       "    }\n",
       "</style>\n",
       "<table border=\"1\" class=\"dataframe\">\n",
       "  <thead>\n",
       "    <tr style=\"text-align: right;\">\n",
       "      <th></th>\n",
       "      <th>species</th>\n",
       "      <th>island</th>\n",
       "      <th>bill_length_mm</th>\n",
       "      <th>bill_depth_mm</th>\n",
       "      <th>flipper_length_mm</th>\n",
       "      <th>body_mass_g</th>\n",
       "      <th>sex</th>\n",
       "      <th>year</th>\n",
       "      <th>bill_length_depth_ratio</th>\n",
       "      <th>sex_binary</th>\n",
       "    </tr>\n",
       "  </thead>\n",
       "  <tbody>\n",
       "    <tr>\n",
       "      <th>0</th>\n",
       "      <td>ADELIE</td>\n",
       "      <td>TORGERSEN</td>\n",
       "      <td>39.1</td>\n",
       "      <td>18.7</td>\n",
       "      <td>181.0</td>\n",
       "      <td>3750.0</td>\n",
       "      <td>MALE</td>\n",
       "      <td>2007</td>\n",
       "      <td>2.090909</td>\n",
       "      <td>1</td>\n",
       "    </tr>\n",
       "    <tr>\n",
       "      <th>1</th>\n",
       "      <td>ADELIE</td>\n",
       "      <td>TORGERSEN</td>\n",
       "      <td>39.5</td>\n",
       "      <td>17.4</td>\n",
       "      <td>186.0</td>\n",
       "      <td>3800.0</td>\n",
       "      <td>FEMALE</td>\n",
       "      <td>2007</td>\n",
       "      <td>2.270115</td>\n",
       "      <td>0</td>\n",
       "    </tr>\n",
       "    <tr>\n",
       "      <th>2</th>\n",
       "      <td>ADELIE</td>\n",
       "      <td>TORGERSEN</td>\n",
       "      <td>40.3</td>\n",
       "      <td>18.0</td>\n",
       "      <td>195.0</td>\n",
       "      <td>3250.0</td>\n",
       "      <td>FEMALE</td>\n",
       "      <td>2007</td>\n",
       "      <td>2.238889</td>\n",
       "      <td>0</td>\n",
       "    </tr>\n",
       "    <tr>\n",
       "      <th>3</th>\n",
       "      <td>ADELIE</td>\n",
       "      <td>TORGERSEN</td>\n",
       "      <td>36.7</td>\n",
       "      <td>19.3</td>\n",
       "      <td>193.0</td>\n",
       "      <td>3450.0</td>\n",
       "      <td>FEMALE</td>\n",
       "      <td>2007</td>\n",
       "      <td>1.901554</td>\n",
       "      <td>0</td>\n",
       "    </tr>\n",
       "    <tr>\n",
       "      <th>4</th>\n",
       "      <td>ADELIE</td>\n",
       "      <td>TORGERSEN</td>\n",
       "      <td>39.3</td>\n",
       "      <td>20.6</td>\n",
       "      <td>190.0</td>\n",
       "      <td>3650.0</td>\n",
       "      <td>MALE</td>\n",
       "      <td>2007</td>\n",
       "      <td>1.907767</td>\n",
       "      <td>1</td>\n",
       "    </tr>\n",
       "  </tbody>\n",
       "</table>\n",
       "</div>"
      ],
      "text/plain": [
       "  species     island  bill_length_mm  bill_depth_mm  flipper_length_mm  \\\n",
       "0  ADELIE  TORGERSEN            39.1           18.7              181.0   \n",
       "1  ADELIE  TORGERSEN            39.5           17.4              186.0   \n",
       "2  ADELIE  TORGERSEN            40.3           18.0              195.0   \n",
       "3  ADELIE  TORGERSEN            36.7           19.3              193.0   \n",
       "4  ADELIE  TORGERSEN            39.3           20.6              190.0   \n",
       "\n",
       "   body_mass_g     sex  year  bill_length_depth_ratio  sex_binary  \n",
       "0       3750.0    MALE  2007                 2.090909           1  \n",
       "1       3800.0  FEMALE  2007                 2.270115           0  \n",
       "2       3250.0  FEMALE  2007                 2.238889           0  \n",
       "3       3450.0  FEMALE  2007                 1.901554           0  \n",
       "4       3650.0    MALE  2007                 1.907767           1  "
      ]
     },
     "execution_count": 16,
     "metadata": {},
     "output_type": "execute_result"
    }
   ],
   "source": [
    "pen_df.sex = pen_df.sex.astype('category')\n",
    "pen_df['sex_binary'] = pen_df.sex.cat.codes\n",
    "pen_df.head()"
   ]
  },
  {
   "cell_type": "code",
   "execution_count": 17,
   "metadata": {},
   "outputs": [
    {
     "data": {
      "text/html": [
       "<div>\n",
       "<style scoped>\n",
       "    .dataframe tbody tr th:only-of-type {\n",
       "        vertical-align: middle;\n",
       "    }\n",
       "\n",
       "    .dataframe tbody tr th {\n",
       "        vertical-align: top;\n",
       "    }\n",
       "\n",
       "    .dataframe thead th {\n",
       "        text-align: right;\n",
       "    }\n",
       "</style>\n",
       "<table border=\"1\" class=\"dataframe\">\n",
       "  <thead>\n",
       "    <tr style=\"text-align: right;\">\n",
       "      <th></th>\n",
       "      <th>species</th>\n",
       "      <th>island</th>\n",
       "      <th>bill_length_mm</th>\n",
       "      <th>bill_depth_mm</th>\n",
       "      <th>flipper_length_mm</th>\n",
       "      <th>body_mass_g</th>\n",
       "      <th>sex</th>\n",
       "      <th>year</th>\n",
       "      <th>bill_length_depth_ratio</th>\n",
       "      <th>sex_binary</th>\n",
       "      <th>species_cat</th>\n",
       "      <th>island_cat</th>\n",
       "    </tr>\n",
       "  </thead>\n",
       "  <tbody>\n",
       "    <tr>\n",
       "      <th>0</th>\n",
       "      <td>ADELIE</td>\n",
       "      <td>TORGERSEN</td>\n",
       "      <td>39.1</td>\n",
       "      <td>18.7</td>\n",
       "      <td>181.0</td>\n",
       "      <td>3750.0</td>\n",
       "      <td>MALE</td>\n",
       "      <td>2007</td>\n",
       "      <td>2.090909</td>\n",
       "      <td>1</td>\n",
       "      <td>0</td>\n",
       "      <td>2</td>\n",
       "    </tr>\n",
       "    <tr>\n",
       "      <th>1</th>\n",
       "      <td>ADELIE</td>\n",
       "      <td>TORGERSEN</td>\n",
       "      <td>39.5</td>\n",
       "      <td>17.4</td>\n",
       "      <td>186.0</td>\n",
       "      <td>3800.0</td>\n",
       "      <td>FEMALE</td>\n",
       "      <td>2007</td>\n",
       "      <td>2.270115</td>\n",
       "      <td>0</td>\n",
       "      <td>0</td>\n",
       "      <td>2</td>\n",
       "    </tr>\n",
       "    <tr>\n",
       "      <th>2</th>\n",
       "      <td>ADELIE</td>\n",
       "      <td>TORGERSEN</td>\n",
       "      <td>40.3</td>\n",
       "      <td>18.0</td>\n",
       "      <td>195.0</td>\n",
       "      <td>3250.0</td>\n",
       "      <td>FEMALE</td>\n",
       "      <td>2007</td>\n",
       "      <td>2.238889</td>\n",
       "      <td>0</td>\n",
       "      <td>0</td>\n",
       "      <td>2</td>\n",
       "    </tr>\n",
       "    <tr>\n",
       "      <th>3</th>\n",
       "      <td>ADELIE</td>\n",
       "      <td>TORGERSEN</td>\n",
       "      <td>36.7</td>\n",
       "      <td>19.3</td>\n",
       "      <td>193.0</td>\n",
       "      <td>3450.0</td>\n",
       "      <td>FEMALE</td>\n",
       "      <td>2007</td>\n",
       "      <td>1.901554</td>\n",
       "      <td>0</td>\n",
       "      <td>0</td>\n",
       "      <td>2</td>\n",
       "    </tr>\n",
       "    <tr>\n",
       "      <th>4</th>\n",
       "      <td>ADELIE</td>\n",
       "      <td>TORGERSEN</td>\n",
       "      <td>39.3</td>\n",
       "      <td>20.6</td>\n",
       "      <td>190.0</td>\n",
       "      <td>3650.0</td>\n",
       "      <td>MALE</td>\n",
       "      <td>2007</td>\n",
       "      <td>1.907767</td>\n",
       "      <td>1</td>\n",
       "      <td>0</td>\n",
       "      <td>2</td>\n",
       "    </tr>\n",
       "  </tbody>\n",
       "</table>\n",
       "</div>"
      ],
      "text/plain": [
       "  species     island  bill_length_mm  bill_depth_mm  flipper_length_mm  \\\n",
       "0  ADELIE  TORGERSEN            39.1           18.7              181.0   \n",
       "1  ADELIE  TORGERSEN            39.5           17.4              186.0   \n",
       "2  ADELIE  TORGERSEN            40.3           18.0              195.0   \n",
       "3  ADELIE  TORGERSEN            36.7           19.3              193.0   \n",
       "4  ADELIE  TORGERSEN            39.3           20.6              190.0   \n",
       "\n",
       "   body_mass_g     sex  year  bill_length_depth_ratio  sex_binary  \\\n",
       "0       3750.0    MALE  2007                 2.090909           1   \n",
       "1       3800.0  FEMALE  2007                 2.270115           0   \n",
       "2       3250.0  FEMALE  2007                 2.238889           0   \n",
       "3       3450.0  FEMALE  2007                 1.901554           0   \n",
       "4       3650.0    MALE  2007                 1.907767           1   \n",
       "\n",
       "   species_cat  island_cat  \n",
       "0            0           2  \n",
       "1            0           2  \n",
       "2            0           2  \n",
       "3            0           2  \n",
       "4            0           2  "
      ]
     },
     "execution_count": 17,
     "metadata": {},
     "output_type": "execute_result"
    }
   ],
   "source": [
    "pen_df.species = pen_df.species.astype('category')\n",
    "pen_df['species_cat'] = pen_df.species.cat.codes\n",
    "pen_df.island = pen_df.island.astype('category')\n",
    "pen_df['island_cat'] = pen_df.island.cat.codes\n",
    "pen_df.head()"
   ]
  },
  {
   "cell_type": "markdown",
   "metadata": {},
   "source": [
    "## 5.2.04 One-hot Encoding"
   ]
  },
  {
   "cell_type": "markdown",
   "metadata": {},
   "source": [
    "One hot encoding converts the categorical variable into multiple binary variables representing each possible category"
   ]
  },
  {
   "cell_type": "code",
   "execution_count": 18,
   "metadata": {},
   "outputs": [],
   "source": [
    "one_hot_encoded_pen_df = pd.get_dummies(pen_df, columns=['species','island','sex'], prefix = ['species','island','sex']).head()"
   ]
  },
  {
   "cell_type": "code",
   "execution_count": 19,
   "metadata": {},
   "outputs": [
    {
     "data": {
      "text/html": [
       "<div>\n",
       "<style scoped>\n",
       "    .dataframe tbody tr th:only-of-type {\n",
       "        vertical-align: middle;\n",
       "    }\n",
       "\n",
       "    .dataframe tbody tr th {\n",
       "        vertical-align: top;\n",
       "    }\n",
       "\n",
       "    .dataframe thead th {\n",
       "        text-align: right;\n",
       "    }\n",
       "</style>\n",
       "<table border=\"1\" class=\"dataframe\">\n",
       "  <thead>\n",
       "    <tr style=\"text-align: right;\">\n",
       "      <th></th>\n",
       "      <th>bill_length_mm</th>\n",
       "      <th>bill_depth_mm</th>\n",
       "      <th>flipper_length_mm</th>\n",
       "      <th>body_mass_g</th>\n",
       "      <th>year</th>\n",
       "      <th>bill_length_depth_ratio</th>\n",
       "      <th>sex_binary</th>\n",
       "      <th>species_cat</th>\n",
       "      <th>island_cat</th>\n",
       "      <th>species_ADELIE</th>\n",
       "      <th>species_CHINSTRAP</th>\n",
       "      <th>species_GENTOO</th>\n",
       "      <th>island_BISCOE</th>\n",
       "      <th>island_DREAM</th>\n",
       "      <th>island_TORGERSEN</th>\n",
       "      <th>sex_FEMALE</th>\n",
       "      <th>sex_MALE</th>\n",
       "    </tr>\n",
       "  </thead>\n",
       "  <tbody>\n",
       "    <tr>\n",
       "      <th>0</th>\n",
       "      <td>39.1</td>\n",
       "      <td>18.7</td>\n",
       "      <td>181.0</td>\n",
       "      <td>3750.0</td>\n",
       "      <td>2007</td>\n",
       "      <td>2.090909</td>\n",
       "      <td>1</td>\n",
       "      <td>0</td>\n",
       "      <td>2</td>\n",
       "      <td>1</td>\n",
       "      <td>0</td>\n",
       "      <td>0</td>\n",
       "      <td>0</td>\n",
       "      <td>0</td>\n",
       "      <td>1</td>\n",
       "      <td>0</td>\n",
       "      <td>1</td>\n",
       "    </tr>\n",
       "    <tr>\n",
       "      <th>1</th>\n",
       "      <td>39.5</td>\n",
       "      <td>17.4</td>\n",
       "      <td>186.0</td>\n",
       "      <td>3800.0</td>\n",
       "      <td>2007</td>\n",
       "      <td>2.270115</td>\n",
       "      <td>0</td>\n",
       "      <td>0</td>\n",
       "      <td>2</td>\n",
       "      <td>1</td>\n",
       "      <td>0</td>\n",
       "      <td>0</td>\n",
       "      <td>0</td>\n",
       "      <td>0</td>\n",
       "      <td>1</td>\n",
       "      <td>1</td>\n",
       "      <td>0</td>\n",
       "    </tr>\n",
       "    <tr>\n",
       "      <th>2</th>\n",
       "      <td>40.3</td>\n",
       "      <td>18.0</td>\n",
       "      <td>195.0</td>\n",
       "      <td>3250.0</td>\n",
       "      <td>2007</td>\n",
       "      <td>2.238889</td>\n",
       "      <td>0</td>\n",
       "      <td>0</td>\n",
       "      <td>2</td>\n",
       "      <td>1</td>\n",
       "      <td>0</td>\n",
       "      <td>0</td>\n",
       "      <td>0</td>\n",
       "      <td>0</td>\n",
       "      <td>1</td>\n",
       "      <td>1</td>\n",
       "      <td>0</td>\n",
       "    </tr>\n",
       "    <tr>\n",
       "      <th>3</th>\n",
       "      <td>36.7</td>\n",
       "      <td>19.3</td>\n",
       "      <td>193.0</td>\n",
       "      <td>3450.0</td>\n",
       "      <td>2007</td>\n",
       "      <td>1.901554</td>\n",
       "      <td>0</td>\n",
       "      <td>0</td>\n",
       "      <td>2</td>\n",
       "      <td>1</td>\n",
       "      <td>0</td>\n",
       "      <td>0</td>\n",
       "      <td>0</td>\n",
       "      <td>0</td>\n",
       "      <td>1</td>\n",
       "      <td>1</td>\n",
       "      <td>0</td>\n",
       "    </tr>\n",
       "    <tr>\n",
       "      <th>4</th>\n",
       "      <td>39.3</td>\n",
       "      <td>20.6</td>\n",
       "      <td>190.0</td>\n",
       "      <td>3650.0</td>\n",
       "      <td>2007</td>\n",
       "      <td>1.907767</td>\n",
       "      <td>1</td>\n",
       "      <td>0</td>\n",
       "      <td>2</td>\n",
       "      <td>1</td>\n",
       "      <td>0</td>\n",
       "      <td>0</td>\n",
       "      <td>0</td>\n",
       "      <td>0</td>\n",
       "      <td>1</td>\n",
       "      <td>0</td>\n",
       "      <td>1</td>\n",
       "    </tr>\n",
       "  </tbody>\n",
       "</table>\n",
       "</div>"
      ],
      "text/plain": [
       "   bill_length_mm  bill_depth_mm  flipper_length_mm  body_mass_g  year  \\\n",
       "0            39.1           18.7              181.0       3750.0  2007   \n",
       "1            39.5           17.4              186.0       3800.0  2007   \n",
       "2            40.3           18.0              195.0       3250.0  2007   \n",
       "3            36.7           19.3              193.0       3450.0  2007   \n",
       "4            39.3           20.6              190.0       3650.0  2007   \n",
       "\n",
       "   bill_length_depth_ratio  sex_binary  species_cat  island_cat  \\\n",
       "0                 2.090909           1            0           2   \n",
       "1                 2.270115           0            0           2   \n",
       "2                 2.238889           0            0           2   \n",
       "3                 1.901554           0            0           2   \n",
       "4                 1.907767           1            0           2   \n",
       "\n",
       "   species_ADELIE  species_CHINSTRAP  species_GENTOO  island_BISCOE  \\\n",
       "0               1                  0               0              0   \n",
       "1               1                  0               0              0   \n",
       "2               1                  0               0              0   \n",
       "3               1                  0               0              0   \n",
       "4               1                  0               0              0   \n",
       "\n",
       "   island_DREAM  island_TORGERSEN  sex_FEMALE  sex_MALE  \n",
       "0             0                 1           0         1  \n",
       "1             0                 1           1         0  \n",
       "2             0                 1           1         0  \n",
       "3             0                 1           1         0  \n",
       "4             0                 1           0         1  "
      ]
     },
     "execution_count": 19,
     "metadata": {},
     "output_type": "execute_result"
    }
   ],
   "source": [
    "one_hot_encoded_pen_df.head()"
   ]
  },
  {
   "cell_type": "markdown",
   "metadata": {},
   "source": [
    "## 5.2.04 Descritization"
   ]
  },
  {
   "cell_type": "markdown",
   "metadata": {},
   "source": [
    "Take a continous variable and convert to a categorical variable. This maybe desired for interpretability or presentation to a client. Numbers without context mean nothing. Including attributes like low medium high or poor average above average give insight into performance."
   ]
  },
  {
   "cell_type": "code",
   "execution_count": 20,
   "metadata": {},
   "outputs": [
    {
     "data": {
      "text/plain": [
       "species                    category\n",
       "island                     category\n",
       "bill_length_mm              float64\n",
       "bill_depth_mm               float64\n",
       "flipper_length_mm           float64\n",
       "body_mass_g                 float64\n",
       "sex                        category\n",
       "year                         object\n",
       "bill_length_depth_ratio     float64\n",
       "sex_binary                     int8\n",
       "species_cat                    int8\n",
       "island_cat                     int8\n",
       "weight_class               category\n",
       "dtype: object"
      ]
     },
     "execution_count": 20,
     "metadata": {},
     "output_type": "execute_result"
    }
   ],
   "source": [
    "pen_df['weight_class'] = pd.cut(pen_df['body_mass_g'],3, labels=[\"Under-Weight\",'Average','Over-Weight'])\n",
    "pen_df.dtypes"
   ]
  },
  {
   "cell_type": "code",
   "execution_count": 21,
   "metadata": {},
   "outputs": [
    {
     "data": {
      "text/html": [
       "<div>\n",
       "<style scoped>\n",
       "    .dataframe tbody tr th:only-of-type {\n",
       "        vertical-align: middle;\n",
       "    }\n",
       "\n",
       "    .dataframe tbody tr th {\n",
       "        vertical-align: top;\n",
       "    }\n",
       "\n",
       "    .dataframe thead th {\n",
       "        text-align: right;\n",
       "    }\n",
       "</style>\n",
       "<table border=\"1\" class=\"dataframe\">\n",
       "  <thead>\n",
       "    <tr style=\"text-align: right;\">\n",
       "      <th></th>\n",
       "      <th>species</th>\n",
       "      <th>island</th>\n",
       "      <th>bill_length_mm</th>\n",
       "      <th>bill_depth_mm</th>\n",
       "      <th>flipper_length_mm</th>\n",
       "      <th>body_mass_g</th>\n",
       "      <th>sex</th>\n",
       "      <th>year</th>\n",
       "      <th>bill_length_depth_ratio</th>\n",
       "      <th>sex_binary</th>\n",
       "      <th>species_cat</th>\n",
       "      <th>island_cat</th>\n",
       "      <th>weight_class</th>\n",
       "    </tr>\n",
       "  </thead>\n",
       "  <tbody>\n",
       "    <tr>\n",
       "      <th>0</th>\n",
       "      <td>ADELIE</td>\n",
       "      <td>TORGERSEN</td>\n",
       "      <td>39.1</td>\n",
       "      <td>18.7</td>\n",
       "      <td>181.0</td>\n",
       "      <td>3750.0</td>\n",
       "      <td>MALE</td>\n",
       "      <td>2007</td>\n",
       "      <td>2.090909</td>\n",
       "      <td>1</td>\n",
       "      <td>0</td>\n",
       "      <td>2</td>\n",
       "      <td>Under-Weight</td>\n",
       "    </tr>\n",
       "    <tr>\n",
       "      <th>1</th>\n",
       "      <td>ADELIE</td>\n",
       "      <td>TORGERSEN</td>\n",
       "      <td>39.5</td>\n",
       "      <td>17.4</td>\n",
       "      <td>186.0</td>\n",
       "      <td>3800.0</td>\n",
       "      <td>FEMALE</td>\n",
       "      <td>2007</td>\n",
       "      <td>2.270115</td>\n",
       "      <td>0</td>\n",
       "      <td>0</td>\n",
       "      <td>2</td>\n",
       "      <td>Under-Weight</td>\n",
       "    </tr>\n",
       "    <tr>\n",
       "      <th>2</th>\n",
       "      <td>ADELIE</td>\n",
       "      <td>TORGERSEN</td>\n",
       "      <td>40.3</td>\n",
       "      <td>18.0</td>\n",
       "      <td>195.0</td>\n",
       "      <td>3250.0</td>\n",
       "      <td>FEMALE</td>\n",
       "      <td>2007</td>\n",
       "      <td>2.238889</td>\n",
       "      <td>0</td>\n",
       "      <td>0</td>\n",
       "      <td>2</td>\n",
       "      <td>Under-Weight</td>\n",
       "    </tr>\n",
       "    <tr>\n",
       "      <th>3</th>\n",
       "      <td>ADELIE</td>\n",
       "      <td>TORGERSEN</td>\n",
       "      <td>36.7</td>\n",
       "      <td>19.3</td>\n",
       "      <td>193.0</td>\n",
       "      <td>3450.0</td>\n",
       "      <td>FEMALE</td>\n",
       "      <td>2007</td>\n",
       "      <td>1.901554</td>\n",
       "      <td>0</td>\n",
       "      <td>0</td>\n",
       "      <td>2</td>\n",
       "      <td>Under-Weight</td>\n",
       "    </tr>\n",
       "    <tr>\n",
       "      <th>4</th>\n",
       "      <td>ADELIE</td>\n",
       "      <td>TORGERSEN</td>\n",
       "      <td>39.3</td>\n",
       "      <td>20.6</td>\n",
       "      <td>190.0</td>\n",
       "      <td>3650.0</td>\n",
       "      <td>MALE</td>\n",
       "      <td>2007</td>\n",
       "      <td>1.907767</td>\n",
       "      <td>1</td>\n",
       "      <td>0</td>\n",
       "      <td>2</td>\n",
       "      <td>Under-Weight</td>\n",
       "    </tr>\n",
       "  </tbody>\n",
       "</table>\n",
       "</div>"
      ],
      "text/plain": [
       "  species     island  bill_length_mm  bill_depth_mm  flipper_length_mm  \\\n",
       "0  ADELIE  TORGERSEN            39.1           18.7              181.0   \n",
       "1  ADELIE  TORGERSEN            39.5           17.4              186.0   \n",
       "2  ADELIE  TORGERSEN            40.3           18.0              195.0   \n",
       "3  ADELIE  TORGERSEN            36.7           19.3              193.0   \n",
       "4  ADELIE  TORGERSEN            39.3           20.6              190.0   \n",
       "\n",
       "   body_mass_g     sex  year  bill_length_depth_ratio  sex_binary  \\\n",
       "0       3750.0    MALE  2007                 2.090909           1   \n",
       "1       3800.0  FEMALE  2007                 2.270115           0   \n",
       "2       3250.0  FEMALE  2007                 2.238889           0   \n",
       "3       3450.0  FEMALE  2007                 1.901554           0   \n",
       "4       3650.0    MALE  2007                 1.907767           1   \n",
       "\n",
       "   species_cat  island_cat  weight_class  \n",
       "0            0           2  Under-Weight  \n",
       "1            0           2  Under-Weight  \n",
       "2            0           2  Under-Weight  \n",
       "3            0           2  Under-Weight  \n",
       "4            0           2  Under-Weight  "
      ]
     },
     "execution_count": 21,
     "metadata": {},
     "output_type": "execute_result"
    }
   ],
   "source": [
    "pen_df.head()"
   ]
  },
  {
   "cell_type": "code",
   "execution_count": 22,
   "metadata": {},
   "outputs": [
    {
     "data": {
      "text/plain": [
       "Under-Weight    150\n",
       "Average         128\n",
       "Over-Weight      55\n",
       "Name: weight_class, dtype: int64"
      ]
     },
     "execution_count": 22,
     "metadata": {},
     "output_type": "execute_result"
    }
   ],
   "source": [
    "pen_df.weight_class.value_counts()"
   ]
  },
  {
   "cell_type": "markdown",
   "metadata": {},
   "source": [
    "## 5.2.02 Normalization / Rescaling"
   ]
  },
  {
   "cell_type": "markdown",
   "metadata": {},
   "source": [
    "https://www.geeksforgeeks.org/data-normalization-with-pandas/"
   ]
  },
  {
   "cell_type": "markdown",
   "metadata": {},
   "source": [
    "Interpretability is a consequence that must be considered when altering or transforming data. There is an inflection point between the benefit and cost when altering or transforming data. We may transform the data and return an accurate model, but for some use cases that require the ability to explain the results and reasons for those results a less complicated, clear understanding of the input can help with interpretability and usability."
   ]
  },
  {
   "cell_type": "markdown",
   "metadata": {},
   "source": [
    "### Max Scaling"
   ]
  },
  {
   "cell_type": "code",
   "execution_count": 23,
   "metadata": {},
   "outputs": [],
   "source": [
    "def max_scale(df):\n",
    "    df_max_scaled = df.copy()\n",
    "    i = 0\n",
    "    for column in df_max_scaled.columns:\n",
    "        if df_max_scaled.dtypes[i] == float :\n",
    "            df_max_scaled[column] = df_max_scaled[column]  / df_max_scaled[column].abs().max()\n",
    "        i+=1\n",
    "    return(df_max_scaled)"
   ]
  },
  {
   "cell_type": "code",
   "execution_count": 24,
   "metadata": {},
   "outputs": [],
   "source": [
    "df_max_scaled = max_scale(pen_df)"
   ]
  },
  {
   "cell_type": "code",
   "execution_count": 25,
   "metadata": {},
   "outputs": [
    {
     "data": {
      "text/html": [
       "<div>\n",
       "<style scoped>\n",
       "    .dataframe tbody tr th:only-of-type {\n",
       "        vertical-align: middle;\n",
       "    }\n",
       "\n",
       "    .dataframe tbody tr th {\n",
       "        vertical-align: top;\n",
       "    }\n",
       "\n",
       "    .dataframe thead th {\n",
       "        text-align: right;\n",
       "    }\n",
       "</style>\n",
       "<table border=\"1\" class=\"dataframe\">\n",
       "  <thead>\n",
       "    <tr style=\"text-align: right;\">\n",
       "      <th></th>\n",
       "      <th>species</th>\n",
       "      <th>island</th>\n",
       "      <th>bill_length_mm</th>\n",
       "      <th>bill_depth_mm</th>\n",
       "      <th>flipper_length_mm</th>\n",
       "      <th>body_mass_g</th>\n",
       "      <th>sex</th>\n",
       "      <th>year</th>\n",
       "      <th>bill_length_depth_ratio</th>\n",
       "      <th>sex_binary</th>\n",
       "      <th>species_cat</th>\n",
       "      <th>island_cat</th>\n",
       "      <th>weight_class</th>\n",
       "    </tr>\n",
       "  </thead>\n",
       "  <tbody>\n",
       "    <tr>\n",
       "      <th>0</th>\n",
       "      <td>ADELIE</td>\n",
       "      <td>TORGERSEN</td>\n",
       "      <td>0.656040</td>\n",
       "      <td>0.869767</td>\n",
       "      <td>0.783550</td>\n",
       "      <td>0.595238</td>\n",
       "      <td>MALE</td>\n",
       "      <td>2007</td>\n",
       "      <td>0.578770</td>\n",
       "      <td>1</td>\n",
       "      <td>0</td>\n",
       "      <td>2</td>\n",
       "      <td>Under-Weight</td>\n",
       "    </tr>\n",
       "    <tr>\n",
       "      <th>1</th>\n",
       "      <td>ADELIE</td>\n",
       "      <td>TORGERSEN</td>\n",
       "      <td>0.662752</td>\n",
       "      <td>0.809302</td>\n",
       "      <td>0.805195</td>\n",
       "      <td>0.603175</td>\n",
       "      <td>FEMALE</td>\n",
       "      <td>2007</td>\n",
       "      <td>0.628375</td>\n",
       "      <td>0</td>\n",
       "      <td>0</td>\n",
       "      <td>2</td>\n",
       "      <td>Under-Weight</td>\n",
       "    </tr>\n",
       "    <tr>\n",
       "      <th>2</th>\n",
       "      <td>ADELIE</td>\n",
       "      <td>TORGERSEN</td>\n",
       "      <td>0.676174</td>\n",
       "      <td>0.837209</td>\n",
       "      <td>0.844156</td>\n",
       "      <td>0.515873</td>\n",
       "      <td>FEMALE</td>\n",
       "      <td>2007</td>\n",
       "      <td>0.619731</td>\n",
       "      <td>0</td>\n",
       "      <td>0</td>\n",
       "      <td>2</td>\n",
       "      <td>Under-Weight</td>\n",
       "    </tr>\n",
       "    <tr>\n",
       "      <th>3</th>\n",
       "      <td>ADELIE</td>\n",
       "      <td>TORGERSEN</td>\n",
       "      <td>0.615772</td>\n",
       "      <td>0.897674</td>\n",
       "      <td>0.835498</td>\n",
       "      <td>0.547619</td>\n",
       "      <td>FEMALE</td>\n",
       "      <td>2007</td>\n",
       "      <td>0.526356</td>\n",
       "      <td>0</td>\n",
       "      <td>0</td>\n",
       "      <td>2</td>\n",
       "      <td>Under-Weight</td>\n",
       "    </tr>\n",
       "    <tr>\n",
       "      <th>4</th>\n",
       "      <td>ADELIE</td>\n",
       "      <td>TORGERSEN</td>\n",
       "      <td>0.659396</td>\n",
       "      <td>0.958140</td>\n",
       "      <td>0.822511</td>\n",
       "      <td>0.579365</td>\n",
       "      <td>MALE</td>\n",
       "      <td>2007</td>\n",
       "      <td>0.528076</td>\n",
       "      <td>1</td>\n",
       "      <td>0</td>\n",
       "      <td>2</td>\n",
       "      <td>Under-Weight</td>\n",
       "    </tr>\n",
       "  </tbody>\n",
       "</table>\n",
       "</div>"
      ],
      "text/plain": [
       "  species     island  bill_length_mm  bill_depth_mm  flipper_length_mm  \\\n",
       "0  ADELIE  TORGERSEN        0.656040       0.869767           0.783550   \n",
       "1  ADELIE  TORGERSEN        0.662752       0.809302           0.805195   \n",
       "2  ADELIE  TORGERSEN        0.676174       0.837209           0.844156   \n",
       "3  ADELIE  TORGERSEN        0.615772       0.897674           0.835498   \n",
       "4  ADELIE  TORGERSEN        0.659396       0.958140           0.822511   \n",
       "\n",
       "   body_mass_g     sex  year  bill_length_depth_ratio  sex_binary  \\\n",
       "0     0.595238    MALE  2007                 0.578770           1   \n",
       "1     0.603175  FEMALE  2007                 0.628375           0   \n",
       "2     0.515873  FEMALE  2007                 0.619731           0   \n",
       "3     0.547619  FEMALE  2007                 0.526356           0   \n",
       "4     0.579365    MALE  2007                 0.528076           1   \n",
       "\n",
       "   species_cat  island_cat  weight_class  \n",
       "0            0           2  Under-Weight  \n",
       "1            0           2  Under-Weight  \n",
       "2            0           2  Under-Weight  \n",
       "3            0           2  Under-Weight  \n",
       "4            0           2  Under-Weight  "
      ]
     },
     "execution_count": 25,
     "metadata": {},
     "output_type": "execute_result"
    }
   ],
   "source": [
    "df_max_scaled.head()"
   ]
  },
  {
   "cell_type": "markdown",
   "metadata": {},
   "source": [
    "### Min_Max Scaling"
   ]
  },
  {
   "cell_type": "code",
   "execution_count": 26,
   "metadata": {},
   "outputs": [],
   "source": [
    "def min_max_scale(df):\n",
    "    df_min_max_scaled = df.copy()\n",
    "    i = 0\n",
    "    for column in df_min_max_scaled.columns:\n",
    "        if df_min_max_scaled.dtypes[i] == float :\n",
    "            df_min_max_scaled[column] = (df_min_max_scaled[column] - df_min_max_scaled[column].min()) / (df_min_max_scaled[column].max() - df_min_max_scaled[column].min()) \n",
    "        i+=1\n",
    "    return(df_min_max_scaled)"
   ]
  },
  {
   "cell_type": "code",
   "execution_count": 27,
   "metadata": {},
   "outputs": [],
   "source": [
    "min_max_scaled_pen_df = min_max_scale(pen_df)"
   ]
  },
  {
   "cell_type": "code",
   "execution_count": 28,
   "metadata": {},
   "outputs": [
    {
     "data": {
      "text/html": [
       "<div>\n",
       "<style scoped>\n",
       "    .dataframe tbody tr th:only-of-type {\n",
       "        vertical-align: middle;\n",
       "    }\n",
       "\n",
       "    .dataframe tbody tr th {\n",
       "        vertical-align: top;\n",
       "    }\n",
       "\n",
       "    .dataframe thead th {\n",
       "        text-align: right;\n",
       "    }\n",
       "</style>\n",
       "<table border=\"1\" class=\"dataframe\">\n",
       "  <thead>\n",
       "    <tr style=\"text-align: right;\">\n",
       "      <th></th>\n",
       "      <th>species</th>\n",
       "      <th>island</th>\n",
       "      <th>bill_length_mm</th>\n",
       "      <th>bill_depth_mm</th>\n",
       "      <th>flipper_length_mm</th>\n",
       "      <th>body_mass_g</th>\n",
       "      <th>sex</th>\n",
       "      <th>year</th>\n",
       "      <th>bill_length_depth_ratio</th>\n",
       "      <th>sex_binary</th>\n",
       "      <th>species_cat</th>\n",
       "      <th>island_cat</th>\n",
       "      <th>weight_class</th>\n",
       "    </tr>\n",
       "  </thead>\n",
       "  <tbody>\n",
       "    <tr>\n",
       "      <th>0</th>\n",
       "      <td>ADELIE</td>\n",
       "      <td>TORGERSEN</td>\n",
       "      <td>0.254545</td>\n",
       "      <td>0.666667</td>\n",
       "      <td>0.152542</td>\n",
       "      <td>0.291667</td>\n",
       "      <td>MALE</td>\n",
       "      <td>2007</td>\n",
       "      <td>0.228651</td>\n",
       "      <td>1</td>\n",
       "      <td>0</td>\n",
       "      <td>2</td>\n",
       "      <td>Under-Weight</td>\n",
       "    </tr>\n",
       "    <tr>\n",
       "      <th>1</th>\n",
       "      <td>ADELIE</td>\n",
       "      <td>TORGERSEN</td>\n",
       "      <td>0.269091</td>\n",
       "      <td>0.511905</td>\n",
       "      <td>0.237288</td>\n",
       "      <td>0.305556</td>\n",
       "      <td>FEMALE</td>\n",
       "      <td>2007</td>\n",
       "      <td>0.319487</td>\n",
       "      <td>0</td>\n",
       "      <td>0</td>\n",
       "      <td>2</td>\n",
       "      <td>Under-Weight</td>\n",
       "    </tr>\n",
       "    <tr>\n",
       "      <th>2</th>\n",
       "      <td>ADELIE</td>\n",
       "      <td>TORGERSEN</td>\n",
       "      <td>0.298182</td>\n",
       "      <td>0.583333</td>\n",
       "      <td>0.389831</td>\n",
       "      <td>0.152778</td>\n",
       "      <td>FEMALE</td>\n",
       "      <td>2007</td>\n",
       "      <td>0.303659</td>\n",
       "      <td>0</td>\n",
       "      <td>0</td>\n",
       "      <td>2</td>\n",
       "      <td>Under-Weight</td>\n",
       "    </tr>\n",
       "    <tr>\n",
       "      <th>3</th>\n",
       "      <td>ADELIE</td>\n",
       "      <td>TORGERSEN</td>\n",
       "      <td>0.167273</td>\n",
       "      <td>0.738095</td>\n",
       "      <td>0.355932</td>\n",
       "      <td>0.208333</td>\n",
       "      <td>FEMALE</td>\n",
       "      <td>2007</td>\n",
       "      <td>0.132672</td>\n",
       "      <td>0</td>\n",
       "      <td>0</td>\n",
       "      <td>2</td>\n",
       "      <td>Under-Weight</td>\n",
       "    </tr>\n",
       "    <tr>\n",
       "      <th>4</th>\n",
       "      <td>ADELIE</td>\n",
       "      <td>TORGERSEN</td>\n",
       "      <td>0.261818</td>\n",
       "      <td>0.892857</td>\n",
       "      <td>0.305085</td>\n",
       "      <td>0.263889</td>\n",
       "      <td>MALE</td>\n",
       "      <td>2007</td>\n",
       "      <td>0.135821</td>\n",
       "      <td>1</td>\n",
       "      <td>0</td>\n",
       "      <td>2</td>\n",
       "      <td>Under-Weight</td>\n",
       "    </tr>\n",
       "  </tbody>\n",
       "</table>\n",
       "</div>"
      ],
      "text/plain": [
       "  species     island  bill_length_mm  bill_depth_mm  flipper_length_mm  \\\n",
       "0  ADELIE  TORGERSEN        0.254545       0.666667           0.152542   \n",
       "1  ADELIE  TORGERSEN        0.269091       0.511905           0.237288   \n",
       "2  ADELIE  TORGERSEN        0.298182       0.583333           0.389831   \n",
       "3  ADELIE  TORGERSEN        0.167273       0.738095           0.355932   \n",
       "4  ADELIE  TORGERSEN        0.261818       0.892857           0.305085   \n",
       "\n",
       "   body_mass_g     sex  year  bill_length_depth_ratio  sex_binary  \\\n",
       "0     0.291667    MALE  2007                 0.228651           1   \n",
       "1     0.305556  FEMALE  2007                 0.319487           0   \n",
       "2     0.152778  FEMALE  2007                 0.303659           0   \n",
       "3     0.208333  FEMALE  2007                 0.132672           0   \n",
       "4     0.263889    MALE  2007                 0.135821           1   \n",
       "\n",
       "   species_cat  island_cat  weight_class  \n",
       "0            0           2  Under-Weight  \n",
       "1            0           2  Under-Weight  \n",
       "2            0           2  Under-Weight  \n",
       "3            0           2  Under-Weight  \n",
       "4            0           2  Under-Weight  "
      ]
     },
     "execution_count": 28,
     "metadata": {},
     "output_type": "execute_result"
    }
   ],
   "source": [
    "min_max_scaled_pen_df.head()"
   ]
  },
  {
   "cell_type": "markdown",
   "metadata": {},
   "source": [
    "### Z-score Normalization"
   ]
  },
  {
   "cell_type": "code",
   "execution_count": 29,
   "metadata": {},
   "outputs": [],
   "source": [
    "def z_scale(df):\n",
    "    df_z_scaled = df.copy()\n",
    "    i = 0\n",
    "    for column in df_z_scaled.columns:\n",
    "        if df_z_scaled.dtypes[i] == float :\n",
    "            df_z_scaled[column] = (df_z_scaled[column] - df_z_scaled[column].mean()) / df_z_scaled[column].std()  \n",
    "        i+=1\n",
    "    return(df_z_scaled)"
   ]
  },
  {
   "cell_type": "code",
   "execution_count": 30,
   "metadata": {},
   "outputs": [],
   "source": [
    "z_scaled_pen_df = z_scale(pen_df)"
   ]
  },
  {
   "cell_type": "code",
   "execution_count": 31,
   "metadata": {},
   "outputs": [
    {
     "data": {
      "text/html": [
       "<div>\n",
       "<style scoped>\n",
       "    .dataframe tbody tr th:only-of-type {\n",
       "        vertical-align: middle;\n",
       "    }\n",
       "\n",
       "    .dataframe tbody tr th {\n",
       "        vertical-align: top;\n",
       "    }\n",
       "\n",
       "    .dataframe thead th {\n",
       "        text-align: right;\n",
       "    }\n",
       "</style>\n",
       "<table border=\"1\" class=\"dataframe\">\n",
       "  <thead>\n",
       "    <tr style=\"text-align: right;\">\n",
       "      <th></th>\n",
       "      <th>species</th>\n",
       "      <th>island</th>\n",
       "      <th>bill_length_mm</th>\n",
       "      <th>bill_depth_mm</th>\n",
       "      <th>flipper_length_mm</th>\n",
       "      <th>body_mass_g</th>\n",
       "      <th>sex</th>\n",
       "      <th>year</th>\n",
       "      <th>bill_length_depth_ratio</th>\n",
       "      <th>sex_binary</th>\n",
       "      <th>species_cat</th>\n",
       "      <th>island_cat</th>\n",
       "      <th>weight_class</th>\n",
       "    </tr>\n",
       "  </thead>\n",
       "  <tbody>\n",
       "    <tr>\n",
       "      <th>0</th>\n",
       "      <td>ADELIE</td>\n",
       "      <td>TORGERSEN</td>\n",
       "      <td>-0.894695</td>\n",
       "      <td>0.779559</td>\n",
       "      <td>-1.424608</td>\n",
       "      <td>-0.567621</td>\n",
       "      <td>MALE</td>\n",
       "      <td>2007</td>\n",
       "      <td>-1.042150</td>\n",
       "      <td>1</td>\n",
       "      <td>0</td>\n",
       "      <td>2</td>\n",
       "      <td>Under-Weight</td>\n",
       "    </tr>\n",
       "    <tr>\n",
       "      <th>1</th>\n",
       "      <td>ADELIE</td>\n",
       "      <td>TORGERSEN</td>\n",
       "      <td>-0.821552</td>\n",
       "      <td>0.119404</td>\n",
       "      <td>-1.067867</td>\n",
       "      <td>-0.505525</td>\n",
       "      <td>FEMALE</td>\n",
       "      <td>2007</td>\n",
       "      <td>-0.680437</td>\n",
       "      <td>0</td>\n",
       "      <td>0</td>\n",
       "      <td>2</td>\n",
       "      <td>Under-Weight</td>\n",
       "    </tr>\n",
       "    <tr>\n",
       "      <th>2</th>\n",
       "      <td>ADELIE</td>\n",
       "      <td>TORGERSEN</td>\n",
       "      <td>-0.675264</td>\n",
       "      <td>0.424091</td>\n",
       "      <td>-0.425733</td>\n",
       "      <td>-1.188572</td>\n",
       "      <td>FEMALE</td>\n",
       "      <td>2007</td>\n",
       "      <td>-0.743464</td>\n",
       "      <td>0</td>\n",
       "      <td>0</td>\n",
       "      <td>2</td>\n",
       "      <td>Under-Weight</td>\n",
       "    </tr>\n",
       "    <tr>\n",
       "      <th>3</th>\n",
       "      <td>ADELIE</td>\n",
       "      <td>TORGERSEN</td>\n",
       "      <td>-1.333559</td>\n",
       "      <td>1.084246</td>\n",
       "      <td>-0.568429</td>\n",
       "      <td>-0.940192</td>\n",
       "      <td>FEMALE</td>\n",
       "      <td>2007</td>\n",
       "      <td>-1.424348</td>\n",
       "      <td>0</td>\n",
       "      <td>0</td>\n",
       "      <td>2</td>\n",
       "      <td>Under-Weight</td>\n",
       "    </tr>\n",
       "    <tr>\n",
       "      <th>4</th>\n",
       "      <td>ADELIE</td>\n",
       "      <td>TORGERSEN</td>\n",
       "      <td>-0.858123</td>\n",
       "      <td>1.744400</td>\n",
       "      <td>-0.782474</td>\n",
       "      <td>-0.691811</td>\n",
       "      <td>MALE</td>\n",
       "      <td>2007</td>\n",
       "      <td>-1.411808</td>\n",
       "      <td>1</td>\n",
       "      <td>0</td>\n",
       "      <td>2</td>\n",
       "      <td>Under-Weight</td>\n",
       "    </tr>\n",
       "  </tbody>\n",
       "</table>\n",
       "</div>"
      ],
      "text/plain": [
       "  species     island  bill_length_mm  bill_depth_mm  flipper_length_mm  \\\n",
       "0  ADELIE  TORGERSEN       -0.894695       0.779559          -1.424608   \n",
       "1  ADELIE  TORGERSEN       -0.821552       0.119404          -1.067867   \n",
       "2  ADELIE  TORGERSEN       -0.675264       0.424091          -0.425733   \n",
       "3  ADELIE  TORGERSEN       -1.333559       1.084246          -0.568429   \n",
       "4  ADELIE  TORGERSEN       -0.858123       1.744400          -0.782474   \n",
       "\n",
       "   body_mass_g     sex  year  bill_length_depth_ratio  sex_binary  \\\n",
       "0    -0.567621    MALE  2007                -1.042150           1   \n",
       "1    -0.505525  FEMALE  2007                -0.680437           0   \n",
       "2    -1.188572  FEMALE  2007                -0.743464           0   \n",
       "3    -0.940192  FEMALE  2007                -1.424348           0   \n",
       "4    -0.691811    MALE  2007                -1.411808           1   \n",
       "\n",
       "   species_cat  island_cat  weight_class  \n",
       "0            0           2  Under-Weight  \n",
       "1            0           2  Under-Weight  \n",
       "2            0           2  Under-Weight  \n",
       "3            0           2  Under-Weight  \n",
       "4            0           2  Under-Weight  "
      ]
     },
     "execution_count": 31,
     "metadata": {},
     "output_type": "execute_result"
    }
   ],
   "source": [
    "z_scaled_pen_df.head()"
   ]
  },
  {
   "cell_type": "markdown",
   "metadata": {},
   "source": [
    "# 5.3 Data Visualization"
   ]
  },
  {
   "cell_type": "markdown",
   "metadata": {},
   "source": [
    "## 5.3.02 Data Plotting Techniques"
   ]
  },
  {
   "cell_type": "markdown",
   "metadata": {},
   "source": [
    "### Scatter Plot"
   ]
  },
  {
   "cell_type": "code",
   "execution_count": 32,
   "metadata": {},
   "outputs": [
    {
     "data": {
      "text/plain": [
       "<AxesSubplot:xlabel='bill_length_mm', ylabel='flipper_length_mm'>"
      ]
     },
     "execution_count": 32,
     "metadata": {},
     "output_type": "execute_result"
    },
    {
     "data": {
      "image/png": "[encoded data removed]",
      "text/plain": [
       "<Figure size 432x288 with 1 Axes>"
      ]
     },
     "metadata": {
      "needs_background": "light"
     },
     "output_type": "display_data"
    }
   ],
   "source": [
    "sns.scatterplot(data = min_max_scaled_pen_df, x ='bill_length_mm', y= 'flipper_length_mm', hue = 'species')"
   ]
  },
  {
   "cell_type": "code",
   "execution_count": 33,
   "metadata": {},
   "outputs": [
    {
     "data": {
      "text/plain": [
       "<AxesSubplot:xlabel='bill_length_mm', ylabel='flipper_length_mm'>"
      ]
     },
     "execution_count": 33,
     "metadata": {},
     "output_type": "execute_result"
    },
    {
     "data": {
      "image/png": "[encoded data removed]",
      "text/plain": [
       "<Figure size 432x288 with 1 Axes>"
      ]
     },
     "metadata": {
      "needs_background": "light"
     },
     "output_type": "display_data"
    }
   ],
   "source": [
    "sns.scatterplot(data = z_scaled_pen_df, x ='bill_length_mm', y= 'flipper_length_mm', hue = 'species')"
   ]
  },
  {
   "cell_type": "markdown",
   "metadata": {},
   "source": [
    "### Box and Whisker Plot"
   ]
  },
  {
   "cell_type": "code",
   "execution_count": 35,
   "metadata": {},
   "outputs": [
    {
     "data": {
      "text/plain": [
       "<AxesSubplot:xlabel='species', ylabel='bill_length_mm'>"
      ]
     },
     "execution_count": 35,
     "metadata": {},
     "output_type": "execute_result"
    },
    {
     "data": {
      "image/png": "[encoded data removed]",
      "text/plain": [
       "<Figure size 432x288 with 1 Axes>"
      ]
     },
     "metadata": {
      "needs_background": "light"
     },
     "output_type": "display_data"
    }
   ],
   "source": [
    "sns.boxplot(data = z_scaled_pen_df, x ='species', y = 'bill_length_mm', hue = 'species')"
   ]
  },
  {
   "cell_type": "code",
   "execution_count": 36,
   "metadata": {},
   "outputs": [
    {
     "data": {
      "text/plain": [
       "<AxesSubplot:xlabel='species', ylabel='flipper_length_mm'>"
      ]
     },
     "execution_count": 36,
     "metadata": {},
     "output_type": "execute_result"
    },
    {
     "data": {
      "image/png": "[encoded data removed]",
      "text/plain": [
       "<Figure size 432x288 with 1 Axes>"
      ]
     },
     "metadata": {
      "needs_background": "light"
     },
     "output_type": "display_data"
    }
   ],
   "source": [
    "sns.boxplot(data = z_scaled_pen_df, x ='species', y = 'flipper_length_mm', hue = 'species')"
   ]
  },
  {
   "cell_type": "code",
   "execution_count": 37,
   "metadata": {},
   "outputs": [
    {
     "data": {
      "text/plain": [
       "<AxesSubplot:xlabel='species', ylabel='bill_depth_mm'>"
      ]
     },
     "execution_count": 37,
     "metadata": {},
     "output_type": "execute_result"
    },
    {
     "data": {
      "image/png": "[encoded data removed]",
      "text/plain": [
       "<Figure size 432x288 with 1 Axes>"
      ]
     },
     "metadata": {
      "needs_background": "light"
     },
     "output_type": "display_data"
    }
   ],
   "source": [
    "sns.boxplot(data = z_scaled_pen_df, x ='species', y = 'bill_depth_mm', hue = 'species')"
   ]
  },
  {
   "cell_type": "code",
   "execution_count": 38,
   "metadata": {},
   "outputs": [
    {
     "data": {
      "text/plain": [
       "<AxesSubplot:xlabel='species', ylabel='body_mass_g'>"
      ]
     },
     "execution_count": 38,
     "metadata": {},
     "output_type": "execute_result"
    },
    {
     "data": {
      "image/png": "[encoded data removed]",
      "text/plain": [
       "<Figure size 432x288 with 1 Axes>"
      ]
     },
     "metadata": {
      "needs_background": "light"
     },
     "output_type": "display_data"
    }
   ],
   "source": [
    "sns.boxplot(data = z_scaled_pen_df, x ='species', y = 'body_mass_g', hue = 'species')"
   ]
  },
  {
   "cell_type": "markdown",
   "metadata": {},
   "source": [
    "### Histogram"
   ]
  },
  {
   "cell_type": "code",
   "execution_count": 39,
   "metadata": {},
   "outputs": [
    {
     "data": {
      "text/plain": [
       "<AxesSubplot:xlabel='bill_length_mm', ylabel='Count'>"
      ]
     },
     "execution_count": 39,
     "metadata": {},
     "output_type": "execute_result"
    },
    {
     "data": {
      "image/png": "[encoded data removed]",
      "text/plain": [
       "<Figure size 432x288 with 1 Axes>"
      ]
     },
     "metadata": {
      "needs_background": "light"
     },
     "output_type": "display_data"
    }
   ],
   "source": [
    "sns.histplot(data = min_max_scaled_pen_df, x ='bill_length_mm', hue = 'species')"
   ]
  },
  {
   "cell_type": "code",
   "execution_count": 40,
   "metadata": {},
   "outputs": [
    {
     "data": {
      "text/plain": [
       "<AxesSubplot:xlabel='flipper_length_mm', ylabel='Count'>"
      ]
     },
     "execution_count": 40,
     "metadata": {},
     "output_type": "execute_result"
    },
    {
     "data": {
      "image/png": "[encoded data removed]",
      "text/plain": [
       "<Figure size 432x288 with 1 Axes>"
      ]
     },
     "metadata": {
      "needs_background": "light"
     },
     "output_type": "display_data"
    }
   ],
   "source": [
    "sns.histplot(data = min_max_scaled_pen_df, x ='flipper_length_mm', hue = 'species')"
   ]
  },
  {
   "cell_type": "code",
   "execution_count": 41,
   "metadata": {},
   "outputs": [
    {
     "data": {
      "text/plain": [
       "<AxesSubplot:xlabel='bill_depth_mm', ylabel='Count'>"
      ]
     },
     "execution_count": 41,
     "metadata": {},
     "output_type": "execute_result"
    },
    {
     "data": {
      "image/png": "[encoded data removed]",
      "text/plain": [
       "<Figure size 432x288 with 1 Axes>"
      ]
     },
     "metadata": {
      "needs_background": "light"
     },
     "output_type": "display_data"
    }
   ],
   "source": [
    "sns.histplot(data = min_max_scaled_pen_df, x ='bill_depth_mm', hue = 'species')"
   ]
  },
  {
   "cell_type": "code",
   "execution_count": 42,
   "metadata": {},
   "outputs": [
    {
     "data": {
      "text/plain": [
       "<AxesSubplot:xlabel='bill_depth_mm', ylabel='Count'>"
      ]
     },
     "execution_count": 42,
     "metadata": {},
     "output_type": "execute_result"
    },
    {
     "data": {
      "image/png": "[encoded data removed]",
      "text/plain": [
       "<Figure size 432x288 with 1 Axes>"
      ]
     },
     "metadata": {
      "needs_background": "light"
     },
     "output_type": "display_data"
    }
   ],
   "source": [
    "sns.histplot(data = min_max_scaled_pen_df, x ='bill_depth_mm', hue = 'species', multiple = 'stack')"
   ]
  },
  {
   "cell_type": "markdown",
   "metadata": {},
   "source": [
    "### Bar plot"
   ]
  },
  {
   "cell_type": "code",
   "execution_count": 43,
   "metadata": {},
   "outputs": [
    {
     "data": {
      "text/plain": [
       "<AxesSubplot:xlabel='species', ylabel='bill_depth_mm'>"
      ]
     },
     "execution_count": 43,
     "metadata": {},
     "output_type": "execute_result"
    },
    {
     "data": {
      "image/png": "[encoded data removed]",
      "text/plain": [
       "<Figure size 432x288 with 1 Axes>"
      ]
     },
     "metadata": {
      "needs_background": "light"
     },
     "output_type": "display_data"
    }
   ],
   "source": [
    "sns.barplot(data = min_max_scaled_pen_df, x ='species', y = 'bill_depth_mm', hue = 'species')"
   ]
  },
  {
   "cell_type": "code",
   "execution_count": 44,
   "metadata": {},
   "outputs": [
    {
     "data": {
      "text/plain": [
       "<AxesSubplot:xlabel='species', ylabel='bill_depth_mm'>"
      ]
     },
     "execution_count": 44,
     "metadata": {},
     "output_type": "execute_result"
    },
    {
     "data": {
      "image/png": "[encoded data removed]",
      "text/plain": [
       "<Figure size 432x288 with 1 Axes>"
      ]
     },
     "metadata": {
      "needs_background": "light"
     },
     "output_type": "display_data"
    }
   ],
   "source": [
    "sns.barplot(data = min_max_scaled_pen_df, x ='species', y = 'bill_depth_mm', hue = 'sex')"
   ]
  },
  {
   "cell_type": "markdown",
   "metadata": {},
   "source": [
    "### Contour Plot"
   ]
  },
  {
   "cell_type": "code",
   "execution_count": 45,
   "metadata": {},
   "outputs": [
    {
     "data": {
      "text/plain": [
       "<AxesSubplot:xlabel='bill_length_mm', ylabel='bill_depth_mm'>"
      ]
     },
     "execution_count": 45,
     "metadata": {},
     "output_type": "execute_result"
    },
    {
     "data": {
      "image/png": "[encoded data removed]",
      "text/plain": [
       "<Figure size 432x288 with 1 Axes>"
      ]
     },
     "metadata": {
      "needs_background": "light"
     },
     "output_type": "display_data"
    }
   ],
   "source": [
    "sns.kdeplot(data = min_max_scaled_pen_df, x ='bill_length_mm', y = 'bill_depth_mm', shade = True, bw_adjust=.5, hue = 'species')"
   ]
  },
  {
   "cell_type": "code",
   "execution_count": 46,
   "metadata": {},
   "outputs": [
    {
     "data": {
      "text/plain": [
       "<AxesSubplot:xlabel='bill_length_mm', ylabel='bill_depth_mm'>"
      ]
     },
     "execution_count": 46,
     "metadata": {},
     "output_type": "execute_result"
    },
    {
     "data": {
      "image/png": "[encoded data removed]",
      "text/plain": [
       "<Figure size 432x288 with 1 Axes>"
      ]
     },
     "metadata": {
      "needs_background": "light"
     },
     "output_type": "display_data"
    }
   ],
   "source": [
    "sns.kdeplot(data = min_max_scaled_pen_df, x ='bill_length_mm', y = 'bill_depth_mm', hue = 'species')"
   ]
  },
  {
   "cell_type": "markdown",
   "metadata": {},
   "source": [
    "### Facet Plots"
   ]
  },
  {
   "cell_type": "code",
   "execution_count": 47,
   "metadata": {},
   "outputs": [
    {
     "data": {
      "text/plain": [
       "<seaborn.axisgrid.FacetGrid at 0x11cbb909400>"
      ]
     },
     "execution_count": 47,
     "metadata": {},
     "output_type": "execute_result"
    },
    {
     "data": {
      "image/png": "[encoded data removed]",
      "text/plain": [
       "<Figure size 648x216 with 3 Axes>"
      ]
     },
     "metadata": {
      "needs_background": "light"
     },
     "output_type": "display_data"
    }
   ],
   "source": [
    "g = sns.FacetGrid(pen_df, col = 'species')\n",
    "g.map(sns.histplot, \"bill_length_mm\")"
   ]
  },
  {
   "cell_type": "markdown",
   "metadata": {},
   "source": [
    "## 5.3.04 Correlate Data Sets to identify patterns"
   ]
  },
  {
   "cell_type": "code",
   "execution_count": 48,
   "metadata": {},
   "outputs": [
    {
     "data": {
      "text/html": [
       "<div>\n",
       "<style scoped>\n",
       "    .dataframe tbody tr th:only-of-type {\n",
       "        vertical-align: middle;\n",
       "    }\n",
       "\n",
       "    .dataframe tbody tr th {\n",
       "        vertical-align: top;\n",
       "    }\n",
       "\n",
       "    .dataframe thead th {\n",
       "        text-align: right;\n",
       "    }\n",
       "</style>\n",
       "<table border=\"1\" class=\"dataframe\">\n",
       "  <thead>\n",
       "    <tr style=\"text-align: right;\">\n",
       "      <th></th>\n",
       "      <th>bill_length_mm</th>\n",
       "      <th>bill_depth_mm</th>\n",
       "      <th>flipper_length_mm</th>\n",
       "      <th>body_mass_g</th>\n",
       "      <th>bill_length_depth_ratio</th>\n",
       "      <th>sex_binary</th>\n",
       "      <th>species_cat</th>\n",
       "      <th>island_cat</th>\n",
       "    </tr>\n",
       "  </thead>\n",
       "  <tbody>\n",
       "    <tr>\n",
       "      <th>bill_length_mm</th>\n",
       "      <td>1.000000</td>\n",
       "      <td>-0.228626</td>\n",
       "      <td>0.653096</td>\n",
       "      <td>0.589451</td>\n",
       "      <td>0.779230</td>\n",
       "      <td>0.344078</td>\n",
       "      <td>0.730548</td>\n",
       "      <td>-0.337179</td>\n",
       "    </tr>\n",
       "    <tr>\n",
       "      <th>bill_depth_mm</th>\n",
       "      <td>-0.228626</td>\n",
       "      <td>1.000000</td>\n",
       "      <td>-0.577792</td>\n",
       "      <td>-0.472016</td>\n",
       "      <td>-0.781246</td>\n",
       "      <td>0.372673</td>\n",
       "      <td>-0.740346</td>\n",
       "      <td>0.568031</td>\n",
       "    </tr>\n",
       "    <tr>\n",
       "      <th>flipper_length_mm</th>\n",
       "      <td>0.653096</td>\n",
       "      <td>-0.577792</td>\n",
       "      <td>1.000000</td>\n",
       "      <td>0.872979</td>\n",
       "      <td>0.801980</td>\n",
       "      <td>0.255169</td>\n",
       "      <td>0.850737</td>\n",
       "      <td>-0.554413</td>\n",
       "    </tr>\n",
       "    <tr>\n",
       "      <th>body_mass_g</th>\n",
       "      <td>0.589451</td>\n",
       "      <td>-0.472016</td>\n",
       "      <td>0.872979</td>\n",
       "      <td>1.000000</td>\n",
       "      <td>0.702179</td>\n",
       "      <td>0.424987</td>\n",
       "      <td>0.750434</td>\n",
       "      <td>-0.559526</td>\n",
       "    </tr>\n",
       "    <tr>\n",
       "      <th>bill_length_depth_ratio</th>\n",
       "      <td>0.779230</td>\n",
       "      <td>-0.781246</td>\n",
       "      <td>0.801980</td>\n",
       "      <td>0.702179</td>\n",
       "      <td>1.000000</td>\n",
       "      <td>-0.004569</td>\n",
       "      <td>0.947589</td>\n",
       "      <td>-0.589550</td>\n",
       "    </tr>\n",
       "    <tr>\n",
       "      <th>sex_binary</th>\n",
       "      <td>0.344078</td>\n",
       "      <td>0.372673</td>\n",
       "      <td>0.255169</td>\n",
       "      <td>0.424987</td>\n",
       "      <td>-0.004569</td>\n",
       "      <td>1.000000</td>\n",
       "      <td>0.010964</td>\n",
       "      <td>-0.012435</td>\n",
       "    </tr>\n",
       "    <tr>\n",
       "      <th>species_cat</th>\n",
       "      <td>0.730548</td>\n",
       "      <td>-0.740346</td>\n",
       "      <td>0.850737</td>\n",
       "      <td>0.750434</td>\n",
       "      <td>0.947589</td>\n",
       "      <td>0.010964</td>\n",
       "      <td>1.000000</td>\n",
       "      <td>-0.622428</td>\n",
       "    </tr>\n",
       "    <tr>\n",
       "      <th>island_cat</th>\n",
       "      <td>-0.337179</td>\n",
       "      <td>0.568031</td>\n",
       "      <td>-0.554413</td>\n",
       "      <td>-0.559526</td>\n",
       "      <td>-0.589550</td>\n",
       "      <td>-0.012435</td>\n",
       "      <td>-0.622428</td>\n",
       "      <td>1.000000</td>\n",
       "    </tr>\n",
       "  </tbody>\n",
       "</table>\n",
       "</div>"
      ],
      "text/plain": [
       "                         bill_length_mm  bill_depth_mm  flipper_length_mm  \\\n",
       "bill_length_mm                 1.000000      -0.228626           0.653096   \n",
       "bill_depth_mm                 -0.228626       1.000000          -0.577792   \n",
       "flipper_length_mm              0.653096      -0.577792           1.000000   \n",
       "body_mass_g                    0.589451      -0.472016           0.872979   \n",
       "bill_length_depth_ratio        0.779230      -0.781246           0.801980   \n",
       "sex_binary                     0.344078       0.372673           0.255169   \n",
       "species_cat                    0.730548      -0.740346           0.850737   \n",
       "island_cat                    -0.337179       0.568031          -0.554413   \n",
       "\n",
       "                         body_mass_g  bill_length_depth_ratio  sex_binary  \\\n",
       "bill_length_mm              0.589451                 0.779230    0.344078   \n",
       "bill_depth_mm              -0.472016                -0.781246    0.372673   \n",
       "flipper_length_mm           0.872979                 0.801980    0.255169   \n",
       "body_mass_g                 1.000000                 0.702179    0.424987   \n",
       "bill_length_depth_ratio     0.702179                 1.000000   -0.004569   \n",
       "sex_binary                  0.424987                -0.004569    1.000000   \n",
       "species_cat                 0.750434                 0.947589    0.010964   \n",
       "island_cat                 -0.559526                -0.589550   -0.012435   \n",
       "\n",
       "                         species_cat  island_cat  \n",
       "bill_length_mm              0.730548   -0.337179  \n",
       "bill_depth_mm              -0.740346    0.568031  \n",
       "flipper_length_mm           0.850737   -0.554413  \n",
       "body_mass_g                 0.750434   -0.559526  \n",
       "bill_length_depth_ratio     0.947589   -0.589550  \n",
       "sex_binary                  0.010964   -0.012435  \n",
       "species_cat                 1.000000   -0.622428  \n",
       "island_cat                 -0.622428    1.000000  "
      ]
     },
     "execution_count": 48,
     "metadata": {},
     "output_type": "execute_result"
    }
   ],
   "source": [
    "pen_df.corr(method = 'pearson')"
   ]
  },
  {
   "cell_type": "code",
   "execution_count": 49,
   "metadata": {},
   "outputs": [
    {
     "data": {
      "text/html": [
       "<div>\n",
       "<style scoped>\n",
       "    .dataframe tbody tr th:only-of-type {\n",
       "        vertical-align: middle;\n",
       "    }\n",
       "\n",
       "    .dataframe tbody tr th {\n",
       "        vertical-align: top;\n",
       "    }\n",
       "\n",
       "    .dataframe thead th {\n",
       "        text-align: right;\n",
       "    }\n",
       "</style>\n",
       "<table border=\"1\" class=\"dataframe\">\n",
       "  <thead>\n",
       "    <tr style=\"text-align: right;\">\n",
       "      <th></th>\n",
       "      <th>bill_length_mm</th>\n",
       "      <th>bill_depth_mm</th>\n",
       "      <th>flipper_length_mm</th>\n",
       "      <th>body_mass_g</th>\n",
       "      <th>bill_length_depth_ratio</th>\n",
       "      <th>sex_binary</th>\n",
       "      <th>species_cat</th>\n",
       "      <th>island_cat</th>\n",
       "    </tr>\n",
       "  </thead>\n",
       "  <tbody>\n",
       "    <tr>\n",
       "      <th>bill_length_mm</th>\n",
       "      <td>1.000000</td>\n",
       "      <td>-0.118240</td>\n",
       "      <td>0.481989</td>\n",
       "      <td>0.427760</td>\n",
       "      <td>0.568176</td>\n",
       "      <td>0.291070</td>\n",
       "      <td>0.556524</td>\n",
       "      <td>-0.230133</td>\n",
       "    </tr>\n",
       "    <tr>\n",
       "      <th>bill_depth_mm</th>\n",
       "      <td>-0.118240</td>\n",
       "      <td>1.000000</td>\n",
       "      <td>-0.277464</td>\n",
       "      <td>-0.192372</td>\n",
       "      <td>-0.554429</td>\n",
       "      <td>0.315852</td>\n",
       "      <td>-0.553304</td>\n",
       "      <td>0.463258</td>\n",
       "    </tr>\n",
       "    <tr>\n",
       "      <th>flipper_length_mm</th>\n",
       "      <td>0.481989</td>\n",
       "      <td>-0.277464</td>\n",
       "      <td>1.000000</td>\n",
       "      <td>0.661460</td>\n",
       "      <td>0.537830</td>\n",
       "      <td>0.223130</td>\n",
       "      <td>0.681604</td>\n",
       "      <td>-0.435435</td>\n",
       "    </tr>\n",
       "    <tr>\n",
       "      <th>body_mass_g</th>\n",
       "      <td>0.427760</td>\n",
       "      <td>-0.192372</td>\n",
       "      <td>0.661460</td>\n",
       "      <td>1.000000</td>\n",
       "      <td>0.439389</td>\n",
       "      <td>0.359280</td>\n",
       "      <td>0.569387</td>\n",
       "      <td>-0.461693</td>\n",
       "    </tr>\n",
       "    <tr>\n",
       "      <th>bill_length_depth_ratio</th>\n",
       "      <td>0.568176</td>\n",
       "      <td>-0.554429</td>\n",
       "      <td>0.537830</td>\n",
       "      <td>0.439389</td>\n",
       "      <td>1.000000</td>\n",
       "      <td>-0.006796</td>\n",
       "      <td>0.792395</td>\n",
       "      <td>-0.466845</td>\n",
       "    </tr>\n",
       "    <tr>\n",
       "      <th>sex_binary</th>\n",
       "      <td>0.291070</td>\n",
       "      <td>0.315852</td>\n",
       "      <td>0.223130</td>\n",
       "      <td>0.359280</td>\n",
       "      <td>-0.006796</td>\n",
       "      <td>1.000000</td>\n",
       "      <td>0.010248</td>\n",
       "      <td>-0.011159</td>\n",
       "    </tr>\n",
       "    <tr>\n",
       "      <th>species_cat</th>\n",
       "      <td>0.556524</td>\n",
       "      <td>-0.553304</td>\n",
       "      <td>0.681604</td>\n",
       "      <td>0.569387</td>\n",
       "      <td>0.792395</td>\n",
       "      <td>0.010248</td>\n",
       "      <td>1.000000</td>\n",
       "      <td>-0.593505</td>\n",
       "    </tr>\n",
       "    <tr>\n",
       "      <th>island_cat</th>\n",
       "      <td>-0.230133</td>\n",
       "      <td>0.463258</td>\n",
       "      <td>-0.435435</td>\n",
       "      <td>-0.461693</td>\n",
       "      <td>-0.466845</td>\n",
       "      <td>-0.011159</td>\n",
       "      <td>-0.593505</td>\n",
       "      <td>1.000000</td>\n",
       "    </tr>\n",
       "  </tbody>\n",
       "</table>\n",
       "</div>"
      ],
      "text/plain": [
       "                         bill_length_mm  bill_depth_mm  flipper_length_mm  \\\n",
       "bill_length_mm                 1.000000      -0.118240           0.481989   \n",
       "bill_depth_mm                 -0.118240       1.000000          -0.277464   \n",
       "flipper_length_mm              0.481989      -0.277464           1.000000   \n",
       "body_mass_g                    0.427760      -0.192372           0.661460   \n",
       "bill_length_depth_ratio        0.568176      -0.554429           0.537830   \n",
       "sex_binary                     0.291070       0.315852           0.223130   \n",
       "species_cat                    0.556524      -0.553304           0.681604   \n",
       "island_cat                    -0.230133       0.463258          -0.435435   \n",
       "\n",
       "                         body_mass_g  bill_length_depth_ratio  sex_binary  \\\n",
       "bill_length_mm              0.427760                 0.568176    0.291070   \n",
       "bill_depth_mm              -0.192372                -0.554429    0.315852   \n",
       "flipper_length_mm           0.661460                 0.537830    0.223130   \n",
       "body_mass_g                 1.000000                 0.439389    0.359280   \n",
       "bill_length_depth_ratio     0.439389                 1.000000   -0.006796   \n",
       "sex_binary                  0.359280                -0.006796    1.000000   \n",
       "species_cat                 0.569387                 0.792395    0.010248   \n",
       "island_cat                 -0.461693                -0.466845   -0.011159   \n",
       "\n",
       "                         species_cat  island_cat  \n",
       "bill_length_mm              0.556524   -0.230133  \n",
       "bill_depth_mm              -0.553304    0.463258  \n",
       "flipper_length_mm           0.681604   -0.435435  \n",
       "body_mass_g                 0.569387   -0.461693  \n",
       "bill_length_depth_ratio     0.792395   -0.466845  \n",
       "sex_binary                  0.010248   -0.011159  \n",
       "species_cat                 1.000000   -0.593505  \n",
       "island_cat                 -0.593505    1.000000  "
      ]
     },
     "execution_count": 49,
     "metadata": {},
     "output_type": "execute_result"
    }
   ],
   "source": [
    "pen_df.corr(method = 'kendall')"
   ]
  },
  {
   "cell_type": "code",
   "execution_count": 50,
   "metadata": {},
   "outputs": [
    {
     "data": {
      "text/html": [
       "<div>\n",
       "<style scoped>\n",
       "    .dataframe tbody tr th:only-of-type {\n",
       "        vertical-align: middle;\n",
       "    }\n",
       "\n",
       "    .dataframe tbody tr th {\n",
       "        vertical-align: top;\n",
       "    }\n",
       "\n",
       "    .dataframe thead th {\n",
       "        text-align: right;\n",
       "    }\n",
       "</style>\n",
       "<table border=\"1\" class=\"dataframe\">\n",
       "  <thead>\n",
       "    <tr style=\"text-align: right;\">\n",
       "      <th></th>\n",
       "      <th>bill_length_mm</th>\n",
       "      <th>bill_depth_mm</th>\n",
       "      <th>flipper_length_mm</th>\n",
       "      <th>body_mass_g</th>\n",
       "      <th>bill_length_depth_ratio</th>\n",
       "      <th>sex_binary</th>\n",
       "      <th>species_cat</th>\n",
       "      <th>island_cat</th>\n",
       "    </tr>\n",
       "  </thead>\n",
       "  <tbody>\n",
       "    <tr>\n",
       "      <th>bill_length_mm</th>\n",
       "      <td>1.000000</td>\n",
       "      <td>-0.213859</td>\n",
       "      <td>0.669754</td>\n",
       "      <td>0.576480</td>\n",
       "      <td>0.782774</td>\n",
       "      <td>0.355034</td>\n",
       "      <td>0.742217</td>\n",
       "      <td>-0.302705</td>\n",
       "    </tr>\n",
       "    <tr>\n",
       "      <th>bill_depth_mm</th>\n",
       "      <td>-0.213859</td>\n",
       "      <td>1.000000</td>\n",
       "      <td>-0.517317</td>\n",
       "      <td>-0.429283</td>\n",
       "      <td>-0.753367</td>\n",
       "      <td>0.383489</td>\n",
       "      <td>-0.712629</td>\n",
       "      <td>0.586349</td>\n",
       "    </tr>\n",
       "    <tr>\n",
       "      <th>flipper_length_mm</th>\n",
       "      <td>0.669754</td>\n",
       "      <td>-0.517317</td>\n",
       "      <td>1.000000</td>\n",
       "      <td>0.840390</td>\n",
       "      <td>0.757335</td>\n",
       "      <td>0.269617</td>\n",
       "      <td>0.822955</td>\n",
       "      <td>-0.542180</td>\n",
       "    </tr>\n",
       "    <tr>\n",
       "      <th>body_mass_g</th>\n",
       "      <td>0.576480</td>\n",
       "      <td>-0.429283</td>\n",
       "      <td>0.840390</td>\n",
       "      <td>1.000000</td>\n",
       "      <td>0.656213</td>\n",
       "      <td>0.436536</td>\n",
       "      <td>0.722822</td>\n",
       "      <td>-0.584001</td>\n",
       "    </tr>\n",
       "    <tr>\n",
       "      <th>bill_length_depth_ratio</th>\n",
       "      <td>0.782774</td>\n",
       "      <td>-0.753367</td>\n",
       "      <td>0.757335</td>\n",
       "      <td>0.656213</td>\n",
       "      <td>1.000000</td>\n",
       "      <td>-0.008310</td>\n",
       "      <td>0.922454</td>\n",
       "      <td>-0.566195</td>\n",
       "    </tr>\n",
       "    <tr>\n",
       "      <th>sex_binary</th>\n",
       "      <td>0.355034</td>\n",
       "      <td>0.383489</td>\n",
       "      <td>0.269617</td>\n",
       "      <td>0.436536</td>\n",
       "      <td>-0.008310</td>\n",
       "      <td>1.000000</td>\n",
       "      <td>0.010804</td>\n",
       "      <td>-0.011662</td>\n",
       "    </tr>\n",
       "    <tr>\n",
       "      <th>species_cat</th>\n",
       "      <td>0.742217</td>\n",
       "      <td>-0.712629</td>\n",
       "      <td>0.822955</td>\n",
       "      <td>0.722822</td>\n",
       "      <td>0.922454</td>\n",
       "      <td>0.010804</td>\n",
       "      <td>1.000000</td>\n",
       "      <td>-0.617378</td>\n",
       "    </tr>\n",
       "    <tr>\n",
       "      <th>island_cat</th>\n",
       "      <td>-0.302705</td>\n",
       "      <td>0.586349</td>\n",
       "      <td>-0.542180</td>\n",
       "      <td>-0.584001</td>\n",
       "      <td>-0.566195</td>\n",
       "      <td>-0.011662</td>\n",
       "      <td>-0.617378</td>\n",
       "      <td>1.000000</td>\n",
       "    </tr>\n",
       "  </tbody>\n",
       "</table>\n",
       "</div>"
      ],
      "text/plain": [
       "                         bill_length_mm  bill_depth_mm  flipper_length_mm  \\\n",
       "bill_length_mm                 1.000000      -0.213859           0.669754   \n",
       "bill_depth_mm                 -0.213859       1.000000          -0.517317   \n",
       "flipper_length_mm              0.669754      -0.517317           1.000000   \n",
       "body_mass_g                    0.576480      -0.429283           0.840390   \n",
       "bill_length_depth_ratio        0.782774      -0.753367           0.757335   \n",
       "sex_binary                     0.355034       0.383489           0.269617   \n",
       "species_cat                    0.742217      -0.712629           0.822955   \n",
       "island_cat                    -0.302705       0.586349          -0.542180   \n",
       "\n",
       "                         body_mass_g  bill_length_depth_ratio  sex_binary  \\\n",
       "bill_length_mm              0.576480                 0.782774    0.355034   \n",
       "bill_depth_mm              -0.429283                -0.753367    0.383489   \n",
       "flipper_length_mm           0.840390                 0.757335    0.269617   \n",
       "body_mass_g                 1.000000                 0.656213    0.436536   \n",
       "bill_length_depth_ratio     0.656213                 1.000000   -0.008310   \n",
       "sex_binary                  0.436536                -0.008310    1.000000   \n",
       "species_cat                 0.722822                 0.922454    0.010804   \n",
       "island_cat                 -0.584001                -0.566195   -0.011662   \n",
       "\n",
       "                         species_cat  island_cat  \n",
       "bill_length_mm              0.742217   -0.302705  \n",
       "bill_depth_mm              -0.712629    0.586349  \n",
       "flipper_length_mm           0.822955   -0.542180  \n",
       "body_mass_g                 0.722822   -0.584001  \n",
       "bill_length_depth_ratio     0.922454   -0.566195  \n",
       "sex_binary                  0.010804   -0.011662  \n",
       "species_cat                 1.000000   -0.617378  \n",
       "island_cat                 -0.617378    1.000000  "
      ]
     },
     "execution_count": 50,
     "metadata": {},
     "output_type": "execute_result"
    }
   ],
   "source": [
    "pen_df.corr(method = 'spearman')"
   ]
  },
  {
   "cell_type": "markdown",
   "metadata": {},
   "source": [
    "Analyze the correlation between the prediction variable (Species Category) and other variables. IF the absolute value of the coefficent is greater than 0.5 retain the variable."
   ]
  },
  {
   "cell_type": "markdown",
   "metadata": {},
   "source": [
    "Sex is not correlated with the species type. In other words sex is not a good predictor of species which makes sense. Most populations have about equal female to male populations which means in the context of this problem that the distribution between female and male is not statstitiscally differrent"
   ]
  },
  {
   "cell_type": "markdown",
   "metadata": {},
   "source": [
    "## 5.3.6 Perform analysis on a data set to identify the mean/distribution of the data"
   ]
  },
  {
   "cell_type": "code",
   "execution_count": 51,
   "metadata": {},
   "outputs": [
    {
     "data": {
      "text/html": [
       "<div>\n",
       "<style scoped>\n",
       "    .dataframe tbody tr th:only-of-type {\n",
       "        vertical-align: middle;\n",
       "    }\n",
       "\n",
       "    .dataframe tbody tr th {\n",
       "        vertical-align: top;\n",
       "    }\n",
       "\n",
       "    .dataframe thead th {\n",
       "        text-align: right;\n",
       "    }\n",
       "</style>\n",
       "<table border=\"1\" class=\"dataframe\">\n",
       "  <thead>\n",
       "    <tr style=\"text-align: right;\">\n",
       "      <th></th>\n",
       "      <th>bill_length_mm</th>\n",
       "      <th>bill_depth_mm</th>\n",
       "      <th>flipper_length_mm</th>\n",
       "      <th>body_mass_g</th>\n",
       "      <th>bill_length_depth_ratio</th>\n",
       "      <th>sex_binary</th>\n",
       "      <th>species_cat</th>\n",
       "      <th>island_cat</th>\n",
       "    </tr>\n",
       "  </thead>\n",
       "  <tbody>\n",
       "    <tr>\n",
       "      <th>count</th>\n",
       "      <td>333.000000</td>\n",
       "      <td>333.000000</td>\n",
       "      <td>333.000000</td>\n",
       "      <td>333.000000</td>\n",
       "      <td>333.000000</td>\n",
       "      <td>333.000000</td>\n",
       "      <td>333.000000</td>\n",
       "      <td>333.000000</td>\n",
       "    </tr>\n",
       "    <tr>\n",
       "      <th>mean</th>\n",
       "      <td>43.992793</td>\n",
       "      <td>17.164865</td>\n",
       "      <td>200.966967</td>\n",
       "      <td>4207.057057</td>\n",
       "      <td>2.607228</td>\n",
       "      <td>0.504505</td>\n",
       "      <td>0.918919</td>\n",
       "      <td>0.651652</td>\n",
       "    </tr>\n",
       "    <tr>\n",
       "      <th>std</th>\n",
       "      <td>5.468668</td>\n",
       "      <td>1.969235</td>\n",
       "      <td>14.015765</td>\n",
       "      <td>805.215802</td>\n",
       "      <td>0.495436</td>\n",
       "      <td>0.500732</td>\n",
       "      <td>0.889718</td>\n",
       "      <td>0.714715</td>\n",
       "    </tr>\n",
       "    <tr>\n",
       "      <th>min</th>\n",
       "      <td>32.100000</td>\n",
       "      <td>13.100000</td>\n",
       "      <td>172.000000</td>\n",
       "      <td>2700.000000</td>\n",
       "      <td>1.639810</td>\n",
       "      <td>0.000000</td>\n",
       "      <td>0.000000</td>\n",
       "      <td>0.000000</td>\n",
       "    </tr>\n",
       "    <tr>\n",
       "      <th>25%</th>\n",
       "      <td>39.500000</td>\n",
       "      <td>15.600000</td>\n",
       "      <td>190.000000</td>\n",
       "      <td>3550.000000</td>\n",
       "      <td>2.162651</td>\n",
       "      <td>0.000000</td>\n",
       "      <td>0.000000</td>\n",
       "      <td>0.000000</td>\n",
       "    </tr>\n",
       "    <tr>\n",
       "      <th>50%</th>\n",
       "      <td>44.500000</td>\n",
       "      <td>17.300000</td>\n",
       "      <td>197.000000</td>\n",
       "      <td>4050.000000</td>\n",
       "      <td>2.576531</td>\n",
       "      <td>1.000000</td>\n",
       "      <td>1.000000</td>\n",
       "      <td>1.000000</td>\n",
       "    </tr>\n",
       "    <tr>\n",
       "      <th>75%</th>\n",
       "      <td>48.600000</td>\n",
       "      <td>18.700000</td>\n",
       "      <td>213.000000</td>\n",
       "      <td>4775.000000</td>\n",
       "      <td>3.096970</td>\n",
       "      <td>1.000000</td>\n",
       "      <td>2.000000</td>\n",
       "      <td>1.000000</td>\n",
       "    </tr>\n",
       "    <tr>\n",
       "      <th>max</th>\n",
       "      <td>59.600000</td>\n",
       "      <td>21.500000</td>\n",
       "      <td>231.000000</td>\n",
       "      <td>6300.000000</td>\n",
       "      <td>3.612676</td>\n",
       "      <td>1.000000</td>\n",
       "      <td>2.000000</td>\n",
       "      <td>2.000000</td>\n",
       "    </tr>\n",
       "  </tbody>\n",
       "</table>\n",
       "</div>"
      ],
      "text/plain": [
       "       bill_length_mm  bill_depth_mm  flipper_length_mm  body_mass_g  \\\n",
       "count      333.000000     333.000000         333.000000   333.000000   \n",
       "mean        43.992793      17.164865         200.966967  4207.057057   \n",
       "std          5.468668       1.969235          14.015765   805.215802   \n",
       "min         32.100000      13.100000         172.000000  2700.000000   \n",
       "25%         39.500000      15.600000         190.000000  3550.000000   \n",
       "50%         44.500000      17.300000         197.000000  4050.000000   \n",
       "75%         48.600000      18.700000         213.000000  4775.000000   \n",
       "max         59.600000      21.500000         231.000000  6300.000000   \n",
       "\n",
       "       bill_length_depth_ratio  sex_binary  species_cat  island_cat  \n",
       "count               333.000000  333.000000   333.000000  333.000000  \n",
       "mean                  2.607228    0.504505     0.918919    0.651652  \n",
       "std                   0.495436    0.500732     0.889718    0.714715  \n",
       "min                   1.639810    0.000000     0.000000    0.000000  \n",
       "25%                   2.162651    0.000000     0.000000    0.000000  \n",
       "50%                   2.576531    1.000000     1.000000    1.000000  \n",
       "75%                   3.096970    1.000000     2.000000    1.000000  \n",
       "max                   3.612676    1.000000     2.000000    2.000000  "
      ]
     },
     "execution_count": 51,
     "metadata": {},
     "output_type": "execute_result"
    }
   ],
   "source": [
    "pen_df.describe(include = np.number)"
   ]
  },
  {
   "cell_type": "code",
   "execution_count": 52,
   "metadata": {},
   "outputs": [
    {
     "data": {
      "text/html": [
       "<div>\n",
       "<style scoped>\n",
       "    .dataframe tbody tr th:only-of-type {\n",
       "        vertical-align: middle;\n",
       "    }\n",
       "\n",
       "    .dataframe tbody tr th {\n",
       "        vertical-align: top;\n",
       "    }\n",
       "\n",
       "    .dataframe thead th {\n",
       "        text-align: right;\n",
       "    }\n",
       "</style>\n",
       "<table border=\"1\" class=\"dataframe\">\n",
       "  <thead>\n",
       "    <tr style=\"text-align: right;\">\n",
       "      <th></th>\n",
       "      <th>bill_length_mm</th>\n",
       "      <th>bill_depth_mm</th>\n",
       "      <th>flipper_length_mm</th>\n",
       "      <th>body_mass_g</th>\n",
       "      <th>bill_length_depth_ratio</th>\n",
       "      <th>sex_binary</th>\n",
       "      <th>species_cat</th>\n",
       "      <th>island_cat</th>\n",
       "    </tr>\n",
       "  </thead>\n",
       "  <tbody>\n",
       "    <tr>\n",
       "      <th>count</th>\n",
       "      <td>333.000000</td>\n",
       "      <td>333.000000</td>\n",
       "      <td>333.000000</td>\n",
       "      <td>333.000000</td>\n",
       "      <td>333.000000</td>\n",
       "      <td>333.000000</td>\n",
       "      <td>333.000000</td>\n",
       "      <td>333.000000</td>\n",
       "    </tr>\n",
       "    <tr>\n",
       "      <th>mean</th>\n",
       "      <td>0.432465</td>\n",
       "      <td>0.483912</td>\n",
       "      <td>0.490966</td>\n",
       "      <td>0.418627</td>\n",
       "      <td>0.490361</td>\n",
       "      <td>0.504505</td>\n",
       "      <td>0.918919</td>\n",
       "      <td>0.651652</td>\n",
       "    </tr>\n",
       "    <tr>\n",
       "      <th>std</th>\n",
       "      <td>0.198861</td>\n",
       "      <td>0.234433</td>\n",
       "      <td>0.237555</td>\n",
       "      <td>0.223671</td>\n",
       "      <td>0.251125</td>\n",
       "      <td>0.500732</td>\n",
       "      <td>0.889718</td>\n",
       "      <td>0.714715</td>\n",
       "    </tr>\n",
       "    <tr>\n",
       "      <th>min</th>\n",
       "      <td>0.000000</td>\n",
       "      <td>0.000000</td>\n",
       "      <td>0.000000</td>\n",
       "      <td>0.000000</td>\n",
       "      <td>0.000000</td>\n",
       "      <td>0.000000</td>\n",
       "      <td>0.000000</td>\n",
       "      <td>0.000000</td>\n",
       "    </tr>\n",
       "    <tr>\n",
       "      <th>25%</th>\n",
       "      <td>0.269091</td>\n",
       "      <td>0.297619</td>\n",
       "      <td>0.305085</td>\n",
       "      <td>0.236111</td>\n",
       "      <td>0.265016</td>\n",
       "      <td>0.000000</td>\n",
       "      <td>0.000000</td>\n",
       "      <td>0.000000</td>\n",
       "    </tr>\n",
       "    <tr>\n",
       "      <th>50%</th>\n",
       "      <td>0.450909</td>\n",
       "      <td>0.500000</td>\n",
       "      <td>0.423729</td>\n",
       "      <td>0.375000</td>\n",
       "      <td>0.474802</td>\n",
       "      <td>1.000000</td>\n",
       "      <td>1.000000</td>\n",
       "      <td>1.000000</td>\n",
       "    </tr>\n",
       "    <tr>\n",
       "      <th>75%</th>\n",
       "      <td>0.600000</td>\n",
       "      <td>0.666667</td>\n",
       "      <td>0.694915</td>\n",
       "      <td>0.576389</td>\n",
       "      <td>0.738600</td>\n",
       "      <td>1.000000</td>\n",
       "      <td>2.000000</td>\n",
       "      <td>1.000000</td>\n",
       "    </tr>\n",
       "    <tr>\n",
       "      <th>max</th>\n",
       "      <td>1.000000</td>\n",
       "      <td>1.000000</td>\n",
       "      <td>1.000000</td>\n",
       "      <td>1.000000</td>\n",
       "      <td>1.000000</td>\n",
       "      <td>1.000000</td>\n",
       "      <td>2.000000</td>\n",
       "      <td>2.000000</td>\n",
       "    </tr>\n",
       "  </tbody>\n",
       "</table>\n",
       "</div>"
      ],
      "text/plain": [
       "       bill_length_mm  bill_depth_mm  flipper_length_mm  body_mass_g  \\\n",
       "count      333.000000     333.000000         333.000000   333.000000   \n",
       "mean         0.432465       0.483912           0.490966     0.418627   \n",
       "std          0.198861       0.234433           0.237555     0.223671   \n",
       "min          0.000000       0.000000           0.000000     0.000000   \n",
       "25%          0.269091       0.297619           0.305085     0.236111   \n",
       "50%          0.450909       0.500000           0.423729     0.375000   \n",
       "75%          0.600000       0.666667           0.694915     0.576389   \n",
       "max          1.000000       1.000000           1.000000     1.000000   \n",
       "\n",
       "       bill_length_depth_ratio  sex_binary  species_cat  island_cat  \n",
       "count               333.000000  333.000000   333.000000  333.000000  \n",
       "mean                  0.490361    0.504505     0.918919    0.651652  \n",
       "std                   0.251125    0.500732     0.889718    0.714715  \n",
       "min                   0.000000    0.000000     0.000000    0.000000  \n",
       "25%                   0.265016    0.000000     0.000000    0.000000  \n",
       "50%                   0.474802    1.000000     1.000000    1.000000  \n",
       "75%                   0.738600    1.000000     2.000000    1.000000  \n",
       "max                   1.000000    1.000000     2.000000    2.000000  "
      ]
     },
     "execution_count": 52,
     "metadata": {},
     "output_type": "execute_result"
    }
   ],
   "source": [
    "min_max_scaled_pen_df.describe(include = np.number)"
   ]
  },
  {
   "cell_type": "code",
   "execution_count": 53,
   "metadata": {},
   "outputs": [],
   "source": [
    "import matplotlib.pyplot as plt\n",
    "import scipy\n",
    "import scipy.stats as stats\n",
    "def dist_finder(column):\n",
    "    dist_names = ['gamma', 'beta', 'rayleigh', 'norm']\n",
    "\n",
    "    results = []\n",
    "    for i in dist_names:\n",
    "        dist = getattr(stats, i)\n",
    "        param = dist.fit(pen_df[column])\n",
    "        a = stats.kstest(pen_df[column], i, args=param)\n",
    "        results.append((i,a[0],a[1]))\n",
    "\n",
    "\n",
    "    results.sort(key=lambda x:float(x[2]), reverse=True)\n",
    "    for j in results:\n",
    "        print(\"{}: statistic={}, pvalue={}\".format(j[0], j[1], j[2]))"
   ]
  },
  {
   "cell_type": "code",
   "execution_count": 54,
   "metadata": {},
   "outputs": [
    {
     "name": "stdout",
     "output_type": "stream",
     "text": [
      "beta: statistic=0.07456337836878585, pvalue=0.0468174337130374\n",
      "norm: statistic=0.0801111954095538, pvalue=0.026308550879920033\n",
      "gamma: statistic=0.08590671754034995, pvalue=0.013786124998475412\n",
      "rayleigh: statistic=0.12232110337592073, pvalue=8.435764089585537e-05\n"
     ]
    }
   ],
   "source": [
    "dist_finder('bill_depth_mm')"
   ]
  },
  {
   "cell_type": "code",
   "execution_count": 55,
   "metadata": {},
   "outputs": [
    {
     "name": "stdout",
     "output_type": "stream",
     "text": [
      "norm: statistic=0.07123428082378708, pvalue=0.06486415659916309\n",
      "gamma: statistic=0.0731798027077184, pvalue=0.053708023489075114\n",
      "beta: statistic=0.0798355695223898, pvalue=0.027099191640183786\n",
      "rayleigh: statistic=0.11739061949195406, pvalue=0.00018680967796154147\n"
     ]
    }
   ],
   "source": [
    "dist_finder('bill_length_mm')"
   ]
  },
  {
   "cell_type": "code",
   "execution_count": 56,
   "metadata": {},
   "outputs": [
    {
     "name": "stdout",
     "output_type": "stream",
     "text": [
      "rayleigh: statistic=0.08345846968639425, pvalue=0.01821345450302763\n",
      "gamma: statistic=0.09375786950458997, pvalue=0.005345112843149397\n",
      "beta: statistic=0.11005101519170851, pvalue=0.0005739416126073038\n",
      "norm: statistic=0.12510215891210075, pvalue=5.309415498465743e-05\n"
     ]
    }
   ],
   "source": [
    "dist_finder('flipper_length_mm')"
   ]
  },
  {
   "cell_type": "code",
   "execution_count": 57,
   "metadata": {},
   "outputs": [
    {
     "name": "stdout",
     "output_type": "stream",
     "text": [
      "gamma: statistic=0.05558230232555722, pvalue=0.2462260853769027\n",
      "rayleigh: statistic=0.06527435272897042, pvalue=0.11204436502834669\n",
      "beta: statistic=0.07250376654603319, pvalue=0.057381336957070296\n",
      "norm: statistic=0.10589032496917372, pvalue=0.001049884030513656\n"
     ]
    }
   ],
   "source": [
    "dist_finder('body_mass_g')"
   ]
  },
  {
   "cell_type": "markdown",
   "metadata": {},
   "source": [
    "# 5.5 Statistics"
   ]
  },
  {
   "cell_type": "markdown",
   "metadata": {},
   "source": [
    "## 5.5.02 Statistical Measures\n",
    "\n",
    "For the following examples we will focus on one column of the penguins data set to demonstrate how to implement a variety of different statistical measures. "
   ]
  },
  {
   "cell_type": "code",
   "execution_count": 58,
   "metadata": {},
   "outputs": [],
   "source": [
    "example_array = pen_df.bill_length_mm.to_numpy()"
   ]
  },
  {
   "cell_type": "markdown",
   "metadata": {},
   "source": [
    "## Mean"
   ]
  },
  {
   "cell_type": "code",
   "execution_count": 59,
   "metadata": {},
   "outputs": [],
   "source": [
    "def mean(array):\n",
    "    mean_value = sum(array) / len(array)\n",
    "    return mean_value"
   ]
  },
  {
   "cell_type": "code",
   "execution_count": 60,
   "metadata": {},
   "outputs": [
    {
     "name": "stdout",
     "output_type": "stream",
     "text": [
      "The mean of the example array is: 43.99279279279281.\n"
     ]
    }
   ],
   "source": [
    "array_mean = mean(example_array)\n",
    "print(f'The mean of the example array is: {array_mean}.')"
   ]
  },
  {
   "cell_type": "code",
   "execution_count": 61,
   "metadata": {},
   "outputs": [
    {
     "data": {
      "text/plain": [
       "bill_length_mm               43.992793\n",
       "bill_depth_mm                17.164865\n",
       "flipper_length_mm           200.966967\n",
       "body_mass_g                4207.057057\n",
       "bill_length_depth_ratio       2.607228\n",
       "sex_binary                    0.504505\n",
       "species_cat                   0.918919\n",
       "island_cat                    0.651652\n",
       "dtype: float64"
      ]
     },
     "execution_count": 61,
     "metadata": {},
     "output_type": "execute_result"
    }
   ],
   "source": [
    "pen_df.mean()"
   ]
  },
  {
   "cell_type": "markdown",
   "metadata": {},
   "source": [
    "## Median"
   ]
  },
  {
   "cell_type": "code",
   "execution_count": 62,
   "metadata": {},
   "outputs": [],
   "source": [
    "def median(array):\n",
    "    if len(array) % 2 == 1:\n",
    "        median_value = sorted(array)[len(array)//2]\n",
    "    else:\n",
    "        median_value = sorted(array)[len(array)/2] + sorted(array)[(len(array)/2) + 1]\n",
    "    return median_value"
   ]
  },
  {
   "cell_type": "code",
   "execution_count": 63,
   "metadata": {},
   "outputs": [
    {
     "name": "stdout",
     "output_type": "stream",
     "text": [
      "The median of the array is: 44.5\n"
     ]
    }
   ],
   "source": [
    "array_median = median(example_array)\n",
    "print(f'The median of the array is: {array_median}')"
   ]
  },
  {
   "cell_type": "code",
   "execution_count": 64,
   "metadata": {},
   "outputs": [
    {
     "data": {
      "text/plain": [
       "bill_length_mm               44.500000\n",
       "bill_depth_mm                17.300000\n",
       "flipper_length_mm           197.000000\n",
       "body_mass_g                4050.000000\n",
       "bill_length_depth_ratio       2.576531\n",
       "sex_binary                    1.000000\n",
       "species_cat                   1.000000\n",
       "island_cat                    1.000000\n",
       "dtype: float64"
      ]
     },
     "execution_count": 64,
     "metadata": {},
     "output_type": "execute_result"
    }
   ],
   "source": [
    "pen_df.median()"
   ]
  },
  {
   "cell_type": "markdown",
   "metadata": {},
   "source": [
    "## Mode"
   ]
  },
  {
   "cell_type": "code",
   "execution_count": 65,
   "metadata": {},
   "outputs": [],
   "source": [
    "def mode(array):\n",
    "    mode_value = max(list(array), key = list(array).count)\n",
    "    return(mode_value)"
   ]
  },
  {
   "cell_type": "code",
   "execution_count": 66,
   "metadata": {},
   "outputs": [
    {
     "name": "stdout",
     "output_type": "stream",
     "text": [
      "The mode of the array is: 41.1\n"
     ]
    }
   ],
   "source": [
    "example_array_mode = mode(example_array)\n",
    "print(f'The mode of the array is: {example_array_mode}')"
   ]
  },
  {
   "cell_type": "code",
   "execution_count": 67,
   "metadata": {},
   "outputs": [
    {
     "data": {
      "text/plain": [
       "bill_length_mm               43.992793\n",
       "bill_depth_mm                17.164865\n",
       "flipper_length_mm           200.966967\n",
       "body_mass_g                4207.057057\n",
       "bill_length_depth_ratio       2.607228\n",
       "sex_binary                    0.504505\n",
       "species_cat                   0.918919\n",
       "island_cat                    0.651652\n",
       "dtype: float64"
      ]
     },
     "execution_count": 67,
     "metadata": {},
     "output_type": "execute_result"
    }
   ],
   "source": [
    "pen_df.mean()"
   ]
  },
  {
   "cell_type": "markdown",
   "metadata": {},
   "source": [
    "## Quantiles"
   ]
  },
  {
   "cell_type": "code",
   "execution_count": 68,
   "metadata": {},
   "outputs": [
    {
     "data": {
      "text/html": [
       "<div>\n",
       "<style scoped>\n",
       "    .dataframe tbody tr th:only-of-type {\n",
       "        vertical-align: middle;\n",
       "    }\n",
       "\n",
       "    .dataframe tbody tr th {\n",
       "        vertical-align: top;\n",
       "    }\n",
       "\n",
       "    .dataframe thead th {\n",
       "        text-align: right;\n",
       "    }\n",
       "</style>\n",
       "<table border=\"1\" class=\"dataframe\">\n",
       "  <thead>\n",
       "    <tr style=\"text-align: right;\">\n",
       "      <th></th>\n",
       "      <th>bill_length_mm</th>\n",
       "      <th>bill_depth_mm</th>\n",
       "      <th>flipper_length_mm</th>\n",
       "      <th>body_mass_g</th>\n",
       "      <th>bill_length_depth_ratio</th>\n",
       "      <th>sex_binary</th>\n",
       "      <th>species_cat</th>\n",
       "      <th>island_cat</th>\n",
       "    </tr>\n",
       "  </thead>\n",
       "  <tbody>\n",
       "    <tr>\n",
       "      <th>0.25</th>\n",
       "      <td>39.5</td>\n",
       "      <td>15.6</td>\n",
       "      <td>190.0</td>\n",
       "      <td>3550.0</td>\n",
       "      <td>2.162651</td>\n",
       "      <td>0.0</td>\n",
       "      <td>0.0</td>\n",
       "      <td>0.0</td>\n",
       "    </tr>\n",
       "    <tr>\n",
       "      <th>0.50</th>\n",
       "      <td>44.5</td>\n",
       "      <td>17.3</td>\n",
       "      <td>197.0</td>\n",
       "      <td>4050.0</td>\n",
       "      <td>2.576531</td>\n",
       "      <td>1.0</td>\n",
       "      <td>1.0</td>\n",
       "      <td>1.0</td>\n",
       "    </tr>\n",
       "    <tr>\n",
       "      <th>0.75</th>\n",
       "      <td>48.6</td>\n",
       "      <td>18.7</td>\n",
       "      <td>213.0</td>\n",
       "      <td>4775.0</td>\n",
       "      <td>3.096970</td>\n",
       "      <td>1.0</td>\n",
       "      <td>2.0</td>\n",
       "      <td>1.0</td>\n",
       "    </tr>\n",
       "  </tbody>\n",
       "</table>\n",
       "</div>"
      ],
      "text/plain": [
       "      bill_length_mm  bill_depth_mm  flipper_length_mm  body_mass_g  \\\n",
       "0.25            39.5           15.6              190.0       3550.0   \n",
       "0.50            44.5           17.3              197.0       4050.0   \n",
       "0.75            48.6           18.7              213.0       4775.0   \n",
       "\n",
       "      bill_length_depth_ratio  sex_binary  species_cat  island_cat  \n",
       "0.25                 2.162651         0.0          0.0         0.0  \n",
       "0.50                 2.576531         1.0          1.0         1.0  \n",
       "0.75                 3.096970         1.0          2.0         1.0  "
      ]
     },
     "execution_count": 68,
     "metadata": {},
     "output_type": "execute_result"
    }
   ],
   "source": [
    "pen_df.quantile([0.25,0.5,0.75])\n"
   ]
  },
  {
   "cell_type": "markdown",
   "metadata": {},
   "source": [
    "## Variance"
   ]
  },
  {
   "cell_type": "code",
   "execution_count": 69,
   "metadata": {},
   "outputs": [
    {
     "data": {
      "text/plain": [
       "bill_length_mm                 29.906333\n",
       "bill_depth_mm                   3.877888\n",
       "flipper_length_mm             196.441677\n",
       "body_mass_g                648372.487699\n",
       "bill_length_depth_ratio         0.245457\n",
       "sex_binary                      0.250733\n",
       "species_cat                     0.791599\n",
       "island_cat                      0.510818\n",
       "dtype: float64"
      ]
     },
     "execution_count": 69,
     "metadata": {},
     "output_type": "execute_result"
    }
   ],
   "source": [
    "pen_df.var(axis = 0)"
   ]
  },
  {
   "cell_type": "markdown",
   "metadata": {},
   "source": [
    "## Standard Deviation"
   ]
  },
  {
   "cell_type": "code",
   "execution_count": 70,
   "metadata": {},
   "outputs": [
    {
     "data": {
      "text/plain": [
       "bill_length_mm               5.468668\n",
       "bill_depth_mm                1.969235\n",
       "flipper_length_mm           14.015765\n",
       "body_mass_g                805.215802\n",
       "bill_length_depth_ratio      0.495436\n",
       "sex_binary                   0.500732\n",
       "species_cat                  0.889718\n",
       "island_cat                   0.714715\n",
       "dtype: float64"
      ]
     },
     "execution_count": 70,
     "metadata": {},
     "output_type": "execute_result"
    }
   ],
   "source": [
    "pen_df.std(axis = 0)"
   ]
  },
  {
   "cell_type": "markdown",
   "metadata": {},
   "source": [
    "## Covariance"
   ]
  },
  {
   "cell_type": "code",
   "execution_count": 71,
   "metadata": {},
   "outputs": [
    {
     "data": {
      "text/html": [
       "<div>\n",
       "<style scoped>\n",
       "    .dataframe tbody tr th:only-of-type {\n",
       "        vertical-align: middle;\n",
       "    }\n",
       "\n",
       "    .dataframe tbody tr th {\n",
       "        vertical-align: top;\n",
       "    }\n",
       "\n",
       "    .dataframe thead th {\n",
       "        text-align: right;\n",
       "    }\n",
       "</style>\n",
       "<table border=\"1\" class=\"dataframe\">\n",
       "  <thead>\n",
       "    <tr style=\"text-align: right;\">\n",
       "      <th></th>\n",
       "      <th>bill_length_mm</th>\n",
       "      <th>bill_depth_mm</th>\n",
       "      <th>flipper_length_mm</th>\n",
       "      <th>body_mass_g</th>\n",
       "      <th>bill_length_depth_ratio</th>\n",
       "      <th>sex_binary</th>\n",
       "      <th>species_cat</th>\n",
       "      <th>island_cat</th>\n",
       "    </tr>\n",
       "  </thead>\n",
       "  <tbody>\n",
       "    <tr>\n",
       "      <th>bill_length_mm</th>\n",
       "      <td>29.906333</td>\n",
       "      <td>-2.462091</td>\n",
       "      <td>50.058195</td>\n",
       "      <td>2595.623304</td>\n",
       "      <td>2.111228</td>\n",
       "      <td>0.942201</td>\n",
       "      <td>3.554534</td>\n",
       "      <td>-1.317880</td>\n",
       "    </tr>\n",
       "    <tr>\n",
       "      <th>bill_depth_mm</th>\n",
       "      <td>-2.462091</td>\n",
       "      <td>3.877888</td>\n",
       "      <td>-15.947248</td>\n",
       "      <td>-748.456122</td>\n",
       "      <td>-0.762207</td>\n",
       "      <td>0.367478</td>\n",
       "      <td>-1.297134</td>\n",
       "      <td>0.799471</td>\n",
       "    </tr>\n",
       "    <tr>\n",
       "      <th>flipper_length_mm</th>\n",
       "      <td>50.058195</td>\n",
       "      <td>-15.947248</td>\n",
       "      <td>196.441677</td>\n",
       "      <td>9852.191649</td>\n",
       "      <td>5.568882</td>\n",
       "      <td>1.790812</td>\n",
       "      <td>10.608759</td>\n",
       "      <td>-5.553710</td>\n",
       "    </tr>\n",
       "    <tr>\n",
       "      <th>body_mass_g</th>\n",
       "      <td>2595.623304</td>\n",
       "      <td>-748.456122</td>\n",
       "      <td>9852.191649</td>\n",
       "      <td>648372.487699</td>\n",
       "      <td>280.122275</td>\n",
       "      <td>171.353658</td>\n",
       "      <td>537.622110</td>\n",
       "      <td>-322.007173</td>\n",
       "    </tr>\n",
       "    <tr>\n",
       "      <th>bill_length_depth_ratio</th>\n",
       "      <td>2.111228</td>\n",
       "      <td>-0.762207</td>\n",
       "      <td>5.568882</td>\n",
       "      <td>280.122275</td>\n",
       "      <td>0.245457</td>\n",
       "      <td>-0.001133</td>\n",
       "      <td>0.417696</td>\n",
       "      <td>-0.208757</td>\n",
       "    </tr>\n",
       "    <tr>\n",
       "      <th>sex_binary</th>\n",
       "      <td>0.942201</td>\n",
       "      <td>0.367478</td>\n",
       "      <td>1.790812</td>\n",
       "      <td>171.353658</td>\n",
       "      <td>-0.001133</td>\n",
       "      <td>0.250733</td>\n",
       "      <td>0.004884</td>\n",
       "      <td>-0.004450</td>\n",
       "    </tr>\n",
       "    <tr>\n",
       "      <th>species_cat</th>\n",
       "      <td>3.554534</td>\n",
       "      <td>-1.297134</td>\n",
       "      <td>10.608759</td>\n",
       "      <td>537.622110</td>\n",
       "      <td>0.417696</td>\n",
       "      <td>0.004884</td>\n",
       "      <td>0.791599</td>\n",
       "      <td>-0.395799</td>\n",
       "    </tr>\n",
       "    <tr>\n",
       "      <th>island_cat</th>\n",
       "      <td>-1.317880</td>\n",
       "      <td>0.799471</td>\n",
       "      <td>-5.553710</td>\n",
       "      <td>-322.007173</td>\n",
       "      <td>-0.208757</td>\n",
       "      <td>-0.004450</td>\n",
       "      <td>-0.395799</td>\n",
       "      <td>0.510818</td>\n",
       "    </tr>\n",
       "  </tbody>\n",
       "</table>\n",
       "</div>"
      ],
      "text/plain": [
       "                         bill_length_mm  bill_depth_mm  flipper_length_mm  \\\n",
       "bill_length_mm                29.906333      -2.462091          50.058195   \n",
       "bill_depth_mm                 -2.462091       3.877888         -15.947248   \n",
       "flipper_length_mm             50.058195     -15.947248         196.441677   \n",
       "body_mass_g                 2595.623304    -748.456122        9852.191649   \n",
       "bill_length_depth_ratio        2.111228      -0.762207           5.568882   \n",
       "sex_binary                     0.942201       0.367478           1.790812   \n",
       "species_cat                    3.554534      -1.297134          10.608759   \n",
       "island_cat                    -1.317880       0.799471          -5.553710   \n",
       "\n",
       "                           body_mass_g  bill_length_depth_ratio  sex_binary  \\\n",
       "bill_length_mm             2595.623304                 2.111228    0.942201   \n",
       "bill_depth_mm              -748.456122                -0.762207    0.367478   \n",
       "flipper_length_mm          9852.191649                 5.568882    1.790812   \n",
       "body_mass_g              648372.487699               280.122275  171.353658   \n",
       "bill_length_depth_ratio     280.122275                 0.245457   -0.001133   \n",
       "sex_binary                  171.353658                -0.001133    0.250733   \n",
       "species_cat                 537.622110                 0.417696    0.004884   \n",
       "island_cat                 -322.007173                -0.208757   -0.004450   \n",
       "\n",
       "                         species_cat  island_cat  \n",
       "bill_length_mm              3.554534   -1.317880  \n",
       "bill_depth_mm              -1.297134    0.799471  \n",
       "flipper_length_mm          10.608759   -5.553710  \n",
       "body_mass_g               537.622110 -322.007173  \n",
       "bill_length_depth_ratio     0.417696   -0.208757  \n",
       "sex_binary                  0.004884   -0.004450  \n",
       "species_cat                 0.791599   -0.395799  \n",
       "island_cat                 -0.395799    0.510818  "
      ]
     },
     "execution_count": 71,
     "metadata": {},
     "output_type": "execute_result"
    }
   ],
   "source": [
    "pen_df.cov()"
   ]
  },
  {
   "cell_type": "markdown",
   "metadata": {},
   "source": [
    "# 5.10 Data Science Metrics / Techniques"
   ]
  },
  {
   "cell_type": "markdown",
   "metadata": {},
   "source": [
    "## 5.10.02 Loss Functions"
   ]
  },
  {
   "cell_type": "markdown",
   "metadata": {},
   "source": [
    "### Regression Loss Functions"
   ]
  },
  {
   "cell_type": "markdown",
   "metadata": {},
   "source": [
    "#### Mean Square Error (MSE)"
   ]
  },
  {
   "cell_type": "code",
   "execution_count": 76,
   "metadata": {},
   "outputs": [],
   "source": [
    "def MSE(actual, prediction):\n",
    "    difference = np.array(prediction) - np.array(actual)\n",
    "    diff_squared = difference ** 2\n",
    "    mse = diff_squared.mean()\n",
    "    return mse"
   ]
  },
  {
   "cell_type": "code",
   "execution_count": 77,
   "metadata": {},
   "outputs": [],
   "source": [
    "from sklearn.metrics import mean_squared_error"
   ]
  },
  {
   "cell_type": "code",
   "execution_count": 78,
   "metadata": {},
   "outputs": [
    {
     "name": "stdout",
     "output_type": "stream",
     "text": [
      "8.666666666666666\n",
      "8.666666666666666\n"
     ]
    }
   ],
   "source": [
    "act = [2,5,7]\n",
    "pred = [3,5,2]\n",
    " \n",
    "print(MSE(act,pred))\n",
    "print(mean_squared_error(act,pred))"
   ]
  },
  {
   "cell_type": "markdown",
   "metadata": {},
   "source": [
    "#### Root Mean Squared Error (RMSE)"
   ]
  },
  {
   "cell_type": "code",
   "execution_count": 79,
   "metadata": {},
   "outputs": [],
   "source": [
    "def RMSE(actual, prediction):\n",
    "    difference = np.array(prediction) - np.array(actual)\n",
    "    diff_squared = difference ** 2\n",
    "    mse = diff_squared.mean()\n",
    "    rmse = np.sqrt(mse)\n",
    "    return rmse\n"
   ]
  },
  {
   "cell_type": "code",
   "execution_count": 80,
   "metadata": {},
   "outputs": [
    {
     "name": "stdout",
     "output_type": "stream",
     "text": [
      "2.943920288775949\n"
     ]
    },
    {
     "data": {
      "text/plain": [
       "2.943920288775949"
      ]
     },
     "execution_count": 80,
     "metadata": {},
     "output_type": "execute_result"
    }
   ],
   "source": [
    "print(RMSE(act,pred))\n",
    "mean_squared_error(act, pred, squared = False)"
   ]
  },
  {
   "cell_type": "markdown",
   "metadata": {},
   "source": [
    "#### Mean Absolute Error (MAE) "
   ]
  },
  {
   "cell_type": "code",
   "execution_count": 81,
   "metadata": {},
   "outputs": [],
   "source": [
    "def MAE(actual, prediction):\n",
    "    difference = np.array(prediction) - np.array(actual)\n",
    "    absolute_difference = np.absolute(difference)\n",
    "    mae = absolute_difference.mean()\n",
    "    return mae"
   ]
  },
  {
   "cell_type": "code",
   "execution_count": 82,
   "metadata": {},
   "outputs": [],
   "source": [
    "from sklearn.metrics import mean_absolute_error"
   ]
  },
  {
   "cell_type": "code",
   "execution_count": 83,
   "metadata": {},
   "outputs": [
    {
     "name": "stdout",
     "output_type": "stream",
     "text": [
      "2.0\n",
      "2.0\n"
     ]
    }
   ],
   "source": [
    "print(MAE(act,pred))\n",
    "print(mean_absolute_error(act, pred))"
   ]
  },
  {
   "cell_type": "markdown",
   "metadata": {},
   "source": [
    "### Classification Loss Functions"
   ]
  },
  {
   "cell_type": "markdown",
   "metadata": {},
   "source": [
    "#### Cross-entropy loss"
   ]
  },
  {
   "cell_type": "code",
   "execution_count": 84,
   "metadata": {},
   "outputs": [],
   "source": [
    "from sklearn.metrics import log_loss"
   ]
  },
  {
   "cell_type": "code",
   "execution_count": 85,
   "metadata": {},
   "outputs": [
    {
     "data": {
      "text/plain": [
       "0.21616187468057912"
      ]
     },
     "execution_count": 85,
     "metadata": {},
     "output_type": "execute_result"
    }
   ],
   "source": [
    "actual = [\"spam\", \"ham\", \"ham\", \"spam\"]\n",
    "prediction = [[.1, .9], [.9, .1], [.8, .2], [.35, .65]]\n",
    "log_loss(actual, prediction)"
   ]
  },
  {
   "cell_type": "markdown",
   "metadata": {},
   "source": [
    "#### Hamming Loss"
   ]
  },
  {
   "cell_type": "code",
   "execution_count": 86,
   "metadata": {},
   "outputs": [
    {
     "data": {
      "text/plain": [
       "0.25"
      ]
     },
     "execution_count": 86,
     "metadata": {},
     "output_type": "execute_result"
    }
   ],
   "source": [
    "from sklearn.metrics import hamming_loss\n",
    "y_pred = [1, 2, 3, 4]\n",
    "y_true = [2, 2, 3, 4]\n",
    "hamming_loss(y_true, y_pred)"
   ]
  },
  {
   "cell_type": "markdown",
   "metadata": {},
   "source": [
    "### Area Under the Curve (AUC)"
   ]
  },
  {
   "cell_type": "code",
   "execution_count": 87,
   "metadata": {},
   "outputs": [
    {
     "data": {
      "text/plain": [
       "0.75"
      ]
     },
     "execution_count": 87,
     "metadata": {},
     "output_type": "execute_result"
    }
   ],
   "source": [
    "from sklearn import metrics\n",
    "y = np.array([1, 1, 2, 2])\n",
    "pred = np.array([0.1, 0.4, 0.35, 0.8])\n",
    "fpr, tpr, thresholds = metrics.roc_curve(y, pred, pos_label=2)\n",
    "metrics.auc(fpr, tpr)"
   ]
  },
  {
   "cell_type": "markdown",
   "metadata": {},
   "source": [
    "### Type 1 Error"
   ]
  },
  {
   "cell_type": "markdown",
   "metadata": {},
   "source": [
    "False postives. OR in other words the upper right quadrant in your confusion matrix."
   ]
  },
  {
   "cell_type": "markdown",
   "metadata": {},
   "source": [
    "### Type 2 Error"
   ]
  },
  {
   "cell_type": "markdown",
   "metadata": {},
   "source": [
    "This is your False negatives. Or in other words the lower left quadrant in your confusion matrix."
   ]
  },
  {
   "cell_type": "markdown",
   "metadata": {},
   "source": [
    "### Confusion Matrix"
   ]
  },
  {
   "cell_type": "code",
   "execution_count": 88,
   "metadata": {},
   "outputs": [
    {
     "name": "stdout",
     "output_type": "stream",
     "text": [
      "[[0 4]\n",
      " [2 1]]\n"
     ]
    },
    {
     "data": {
      "text/plain": [
       "(0, 4, 2, 1)"
      ]
     },
     "execution_count": 88,
     "metadata": {},
     "output_type": "execute_result"
    }
   ],
   "source": [
    "from sklearn.metrics import confusion_matrix\n",
    "y_true = [0, 1, 0, 1, 0, 1, 0]\n",
    "y_pred = [1, 1, 1, 0, 1, 0, 1]\n",
    "\n",
    "print(confusion_matrix(y_true, y_pred, labels = [0,1]))\n",
    "tn, fp, fn, tp = confusion_matrix(y_true, y_pred).ravel()\n",
    "(tn,fp,fn,tp)"
   ]
  },
  {
   "cell_type": "markdown",
   "metadata": {},
   "source": [
    "The type one error is 4/7"
   ]
  },
  {
   "cell_type": "markdown",
   "metadata": {},
   "source": [
    "The type 2 error is 2/7"
   ]
  },
  {
   "cell_type": "code",
   "execution_count": 89,
   "metadata": {},
   "outputs": [
    {
     "data": {
      "text/plain": [
       "<AxesSubplot:>"
      ]
     },
     "execution_count": 89,
     "metadata": {},
     "output_type": "execute_result"
    },
    {
     "data": {
      "image/png": "[encoded data removed]",
      "text/plain": [
       "<Figure size 432x288 with 2 Axes>"
      ]
     },
     "metadata": {
      "needs_background": "light"
     },
     "output_type": "display_data"
    }
   ],
   "source": [
    "annot_kws = {\"ha\": 'center',\"va\": 'center'}\n",
    "sns.heatmap(confusion_matrix(y_true, y_pred), annot = True, annot_kws=annot_kws)"
   ]
  },
  {
   "cell_type": "markdown",
   "metadata": {},
   "source": [
    "### Validation Accuracy"
   ]
  },
  {
   "cell_type": "code",
   "execution_count": 90,
   "metadata": {},
   "outputs": [
    {
     "name": "stdout",
     "output_type": "stream",
     "text": [
      "              precision    recall  f1-score   support\n",
      "\n",
      "           0       0.00      0.00      0.00         4\n",
      "           1       0.20      0.33      0.25         3\n",
      "\n",
      "    accuracy                           0.14         7\n",
      "   macro avg       0.10      0.17      0.12         7\n",
      "weighted avg       0.09      0.14      0.11         7\n",
      "\n"
     ]
    }
   ],
   "source": [
    "from sklearn.metrics import classification_report\n",
    "print(classification_report(y_true, y_pred))"
   ]
  },
  {
   "cell_type": "markdown",
   "metadata": {},
   "source": [
    "### Grid Search / Parameter Tuning"
   ]
  },
  {
   "cell_type": "code",
   "execution_count": 91,
   "metadata": {},
   "outputs": [],
   "source": [
    "param = {'max_depth': [6,9, None], \n",
    "         'n_estimators':[50, 70, 100, 150], \n",
    "          'max_features': [2],\n",
    "          'criterion' : ['gini', 'entropy'],\n",
    "          'bootstrap':[True, False]}"
   ]
  },
  {
   "cell_type": "code",
   "execution_count": 92,
   "metadata": {},
   "outputs": [],
   "source": [
    "x = pen_df[['bill_depth_mm','bill_length_mm']].to_numpy()"
   ]
  },
  {
   "cell_type": "code",
   "execution_count": 93,
   "metadata": {},
   "outputs": [
    {
     "name": "stdout",
     "output_type": "stream",
     "text": [
      "{'bootstrap': True, 'criterion': 'entropy', 'max_depth': 6, 'max_features': 2, 'n_estimators': 100}\n",
      "0.9639529624604251\n"
     ]
    }
   ],
   "source": [
    "from sklearn.model_selection import GridSearchCV\n",
    "from sklearn.ensemble import RandomForestClassifier\n",
    "rnd_search = GridSearchCV(RandomForestClassifier(), param)\n",
    "rnd_search.fit(x,pen_df.species_cat)\n",
    "print(rnd_search.best_params_)\n",
    "print(rnd_search.best_score_)"
   ]
  },
  {
   "cell_type": "markdown",
   "metadata": {},
   "source": [
    "### Cross Validation"
   ]
  },
  {
   "cell_type": "code",
   "execution_count": 94,
   "metadata": {},
   "outputs": [],
   "source": [
    "from sklearn.model_selection import cross_val_score\n",
    "accuracy = cross_val_score(rnd_search, x, pen_df.species_cat, scoring = 'accuracy', cv = 5)"
   ]
  },
  {
   "cell_type": "code",
   "execution_count": 95,
   "metadata": {},
   "outputs": [
    {
     "name": "stdout",
     "output_type": "stream",
     "text": [
      "The Model Accuracy for this Model with 5-fold Cross Validation is: 95.79375848032564%\n"
     ]
    }
   ],
   "source": [
    "print(f'The Model Accuracy for this Model with 5-fold Cross Validation is: {accuracy.mean()*100}%')"
   ]
  },
  {
   "cell_type": "code",
   "execution_count": null,
   "metadata": {},
   "outputs": [],
   "source": []
  }
 ],
 "metadata": {
  "kernelspec": {
   "display_name": "Python 3",
   "language": "python",
   "name": "python3"
  },
  "language_info": {
   "codemirror_mode": {
    "name": "ipython",
    "version": 3
   },
   "file_extension": ".py",
   "mimetype": "text/x-python",
   "name": "python",
   "nbconvert_exporter": "python",
   "pygments_lexer": "ipython3",
   "version": "3.7.3"
  }
 },
 "nbformat": 4,
 "nbformat_minor": 2
}
